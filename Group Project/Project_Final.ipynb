{
 "cells": [
  {
   "cell_type": "markdown",
   "id": "785b9827",
   "metadata": {},
   "source": [
    "## Data Science Group Project (Group 100)\n",
    "# Analysing Opal Users’ Transport Patterns in NSW and Exploring Predictive Demographic Variables"
   ]
  },
  {
   "cell_type": "markdown",
   "id": "81f1944b",
   "metadata": {},
   "source": [
    "## Abstract\n",
    "<div style=\"text-align: justify\"> <br> This project starts with an objective to understand the opal usage for all transport modes in NSW and link them with the demographic data from census to analyse if there is any relationships between transport patterns and demographic variables such as income, age and so on. The aim is to see if there is any demographic factors can by used to predict opal usage in transportation.</div>"
   ]
  },
  {
   "cell_type": "markdown",
   "id": "2797290d",
   "metadata": {},
   "source": [
    "## Import Libraries"
   ]
  },
  {
   "cell_type": "code",
   "execution_count": 1,
   "id": "46079050",
   "metadata": {},
   "outputs": [],
   "source": [
    "import pandas as pd\n",
    "import numpy as np\n",
    "import seaborn as sns\n",
    "\n",
    "import matplotlib.pylab as plt\n",
    "from matplotlib.pyplot import imread\n",
    "%matplotlib inline\n",
    "\n",
    "#KMeans Clustering \n",
    "from sklearn.cluster import KMeans\n",
    "from sklearn.metrics import pairwise_distances\n",
    "from scipy.cluster.hierarchy import linkage, dendrogram, cut_tree\n",
    "from scipy.spatial.distance import pdist \n",
    "from sklearn.feature_extraction.text import TfidfVectorizer\n",
    "\n",
    "#Linear Regression\n",
    "from sklearn.model_selection import train_test_split\n",
    "from sklearn.linear_model import LinearRegression\n",
    "from sklearn.metrics import r2_score\n",
    "from sklearn.metrics import mean_squared_error\n",
    "from sklearn.metrics import confusion_matrix, accuracy_score\n",
    "from sklearn.metrics import plot_confusion_matrix\n",
    "%matplotlib inline\n",
    "\n",
    "#Linear Regression Statical Analysis\n",
    "import statsmodels.api as sm\n",
    "from scipy import stats\n",
    "\n",
    "#RFE\n",
    "from sklearn.feature_selection import RFE\n",
    "from sklearn.feature_selection import RFECV\n",
    "\n",
    "#Naive Bayes\n",
    "from sklearn.naive_bayes import GaussianNB\n",
    "from sklearn.naive_bayes import MultinomialNB\n",
    "\n",
    "#feature selection\n",
    "from sklearn.datasets import make_classification\n",
    "from sklearn.ensemble import ExtraTreesClassifier\n",
    "\n",
    "#ignore warning\n",
    "import warnings\n",
    "warnings.filterwarnings('ignore')"
   ]
  },
  {
   "cell_type": "markdown",
   "id": "b611d530",
   "metadata": {},
   "source": [
    "## Introduction\n",
    "<div style=\"text-align: justify\"> <br> Opal is a contactless fare collection system for public transport services in the greater Sydney area and most other urban areas of New South Wales, Australia. Opal makes using public transportation very easy. All you need is an Opal card to travel from the Blue Mountains to Bondi, or from Goulburn to Scone. Opal cards are smartcards that you may store, load with money, and use to pay for public transportation. You can simply load money onto the Opal card and tap on and off to pay for your fares on public transportation such as trains, buses, ferries, and light rail – everywhere on the Opal network.</div>\n",
    "<br>\n",
    "<div style=\"text-align: justify\"> In this project, we analyze the Opal usage data to show the patterns of use of bus, train, light rail, and ferry in different parts of NSW. Then, we link the demographic data from the census and closely analyze it to see if there is any relationships between transport patterns and demographic variables, such as income, age, households and population.</div>"
   ]
  },
  {
   "cell_type": "markdown",
   "id": "e22cd623",
   "metadata": {},
   "source": [
    "**Project Goals:**\n",
    "1. Describe patterns of different transportation modes using Opal usage\n",
    "2. Identify some demographic variables that are significant to transport pattern\n",
    "3. Establish predictive model for Opal usage"
   ]
  },
  {
   "cell_type": "markdown",
   "id": "9b06dc63",
   "metadata": {},
   "source": [
    "## About the Data"
   ]
  },
  {
   "cell_type": "markdown",
   "id": "ed331806",
   "metadata": {},
   "source": [
    "### 1. Opal Usage: Opal_Patronage_2020\n",
    "This dataset contains the Opal patronage data for train, bus, ferry, and light rail in NSW for the year of 2020. Originally, 366 individual datasheets in .txt format were downloaded from https://opendata.transport.nsw.gov.au/dataset/opal-patronage to form a combined datasheet in .csv format representing Opal patronage for the year of 2020. Dataset covers regions include: Sydney CBD, Parramatta, Chatswood, Macquarie Park, North Sydney, Strathfield, Newcastle and surrounds, Wollongong and surrounds and Other. A total of 237,914 records were collected. Raw data was saved in the Data folder.\n",
    "\n",
    "\n",
    "a) Data cleaning is performed on the combined datasheet before reading into the Jupyter notebook:\n",
    "   * There are duplications and unknown data within the original data sets, we have filtered out 33,546 records of All-NSW from the region column, and 380 records of an UNKNOWN mode of transport.\n",
    "   * The frequency of tap on and tap off volume are combined with continuous and categorical variables. For analysis purposes, we replaced <50 with 50 in the columns of Tap_Ons (64,500 records) and Tap_Offs (65,296 records). \n",
    "   * For easy analysis, we created a ‘month’ column to summarize data by month.\n",
    "   * A total of 204,178 records were left after data cleaning.\n",
    "\n",
    "\n",
    "b) Adjusted data structure:\n",
    "\n",
    "| Field Name | Field Description |\n",
    "| --- | :-- |\n",
    "| trip_origin_date  | Date of the trip from 1/1/2020 - 31/12/2020 |\n",
    "| month | From Jan (January) to Dec (December) |\n",
    "| mode_name | Mode of transport includes: bus, ferry, light rail and train |\n",
    "| ti_region | Travel insights regions includes: Sydney CBD, Parramatta, Chatswood, Macquarie Park, North Sydney, Strathfield, Newcastle and surrounds, Wollongong and surrounds, Other |\n",
    "| tap_hour | Taps are grouped from the start of the hour and presented in number (E.g. 6 = 6:00am - 6:59am, 20 = 8:00pm - 8:59pm) |\n",
    "| Adjusted_Tap_Ons | Opal tap ons rounded to the nearest 100s |\n",
    "| Adjusted_Tap_Offs | Opal tap offs rounded to the nearest 100s |\n",
    "\n",
    "\n",
    "### 2. Demographic Data: HTS Data by LGA\n",
    "The data is collected by Household Travel Survey. This dataset contains numbers of population, household and vehicles by LGA. Original data was downloaded from https://opendata.transport.nsw.gov.au/dataset/household-travel-survey. We will use data collected in 2019-2020 in our analysis. \n",
    "\n",
    "\n",
    "### 3. Demographic Data: Personal income in Australia\n",
    "This dataset contains personal income information downloaded from the Census https://www.abs.gov.au/statistics/labour/earnings-and-work-hours/personal-income-australia/2011-12-2017-18.  Data was filtered based on LGA. We will use data collected in 2017-2018 in our analysis. \n",
    "\n",
    "\n",
    "### 4. Combining Datasets: \n",
    "For analysis purposes, we combine the opal dataset with the two demographic datasets by region using Local Government Areas (LGA) as below:\n",
    "\n",
    "|  Opal Name                |  LGA Name     |\n",
    "|---------------------------|---------------|\n",
    "|  Chatswood                |  Willoughby   |\n",
    "|  Macquarie Park           |  Ryde         |\n",
    "|  Newcastle and surrounds  |  Newcastle    |\n",
    "|  North Sydney             |  North Sydney |\n",
    "|  Parramatta               |  Parramatta   |\n",
    "|  Strathfield              |  Strathfield  |\n",
    "|  Sydney CBD               |  Sydney       |\n",
    "|  Wollongong and surrounds |  Wollongong   |\n"
   ]
  },
  {
   "cell_type": "markdown",
   "id": "84d3eeed",
   "metadata": {},
   "source": [
    "## Data Exploration"
   ]
  },
  {
   "cell_type": "code",
   "execution_count": 2,
   "id": "179d767c",
   "metadata": {},
   "outputs": [
    {
     "data": {
      "text/html": [
       "<div>\n",
       "<style scoped>\n",
       "    .dataframe tbody tr th:only-of-type {\n",
       "        vertical-align: middle;\n",
       "    }\n",
       "\n",
       "    .dataframe tbody tr th {\n",
       "        vertical-align: top;\n",
       "    }\n",
       "\n",
       "    .dataframe thead th {\n",
       "        text-align: right;\n",
       "    }\n",
       "</style>\n",
       "<table border=\"1\" class=\"dataframe\">\n",
       "  <thead>\n",
       "    <tr style=\"text-align: right;\">\n",
       "      <th></th>\n",
       "      <th>trip_origin_date</th>\n",
       "      <th>month</th>\n",
       "      <th>mode_name</th>\n",
       "      <th>ti_region</th>\n",
       "      <th>tap_hour</th>\n",
       "      <th>Adjusted_Tap_Ons</th>\n",
       "      <th>Adjusted_Tap_Offs</th>\n",
       "    </tr>\n",
       "  </thead>\n",
       "  <tbody>\n",
       "    <tr>\n",
       "      <th>0</th>\n",
       "      <td>2020-01-01</td>\n",
       "      <td>Jan</td>\n",
       "      <td>Bus</td>\n",
       "      <td>Chatswood</td>\n",
       "      <td>0</td>\n",
       "      <td>50</td>\n",
       "      <td>50</td>\n",
       "    </tr>\n",
       "    <tr>\n",
       "      <th>1</th>\n",
       "      <td>2020-01-01</td>\n",
       "      <td>Jan</td>\n",
       "      <td>Bus</td>\n",
       "      <td>Macquarie Park</td>\n",
       "      <td>0</td>\n",
       "      <td>50</td>\n",
       "      <td>50</td>\n",
       "    </tr>\n",
       "    <tr>\n",
       "      <th>2</th>\n",
       "      <td>2020-01-01</td>\n",
       "      <td>Jan</td>\n",
       "      <td>Bus</td>\n",
       "      <td>Newcastle and surrounds</td>\n",
       "      <td>0</td>\n",
       "      <td>50</td>\n",
       "      <td>50</td>\n",
       "    </tr>\n",
       "    <tr>\n",
       "      <th>3</th>\n",
       "      <td>2020-01-01</td>\n",
       "      <td>Jan</td>\n",
       "      <td>Bus</td>\n",
       "      <td>North Sydney</td>\n",
       "      <td>0</td>\n",
       "      <td>700</td>\n",
       "      <td>100</td>\n",
       "    </tr>\n",
       "    <tr>\n",
       "      <th>4</th>\n",
       "      <td>2020-01-01</td>\n",
       "      <td>Jan</td>\n",
       "      <td>Bus</td>\n",
       "      <td>Other</td>\n",
       "      <td>0</td>\n",
       "      <td>4500</td>\n",
       "      <td>3200</td>\n",
       "    </tr>\n",
       "  </tbody>\n",
       "</table>\n",
       "</div>"
      ],
      "text/plain": [
       "  trip_origin_date month mode_name                ti_region  tap_hour  \\\n",
       "0       2020-01-01   Jan       Bus                Chatswood         0   \n",
       "1       2020-01-01   Jan       Bus           Macquarie Park         0   \n",
       "2       2020-01-01   Jan       Bus  Newcastle and surrounds         0   \n",
       "3       2020-01-01   Jan       Bus             North Sydney         0   \n",
       "4       2020-01-01   Jan       Bus                    Other         0   \n",
       "\n",
       "   Adjusted_Tap_Ons  Adjusted_Tap_Offs  \n",
       "0                50                 50  \n",
       "1                50                 50  \n",
       "2                50                 50  \n",
       "3               700                100  \n",
       "4              4500               3200  "
      ]
     },
     "execution_count": 2,
     "metadata": {},
     "output_type": "execute_result"
    }
   ],
   "source": [
    "# read the data\n",
    "opal = pd.read_csv('data/Opal_Patronage_2020.csv', parse_dates=['trip_origin_date'])\n",
    "opal.head()"
   ]
  },
  {
   "cell_type": "code",
   "execution_count": 3,
   "id": "2dd66e0c",
   "metadata": {},
   "outputs": [
    {
     "name": "stdout",
     "output_type": "stream",
     "text": [
      "<class 'pandas.core.frame.DataFrame'>\n",
      "RangeIndex: 204178 entries, 0 to 204177\n",
      "Data columns (total 7 columns):\n",
      " #   Column             Non-Null Count   Dtype         \n",
      "---  ------             --------------   -----         \n",
      " 0   trip_origin_date   204178 non-null  datetime64[ns]\n",
      " 1   month              204178 non-null  object        \n",
      " 2   mode_name          204178 non-null  object        \n",
      " 3   ti_region          204178 non-null  object        \n",
      " 4   tap_hour           204178 non-null  int64         \n",
      " 5   Adjusted_Tap_Ons   204178 non-null  int64         \n",
      " 6   Adjusted_Tap_Offs  204178 non-null  int64         \n",
      "dtypes: datetime64[ns](1), int64(3), object(3)\n",
      "memory usage: 10.9+ MB\n"
     ]
    }
   ],
   "source": [
    "# check for data information\n",
    "opal.info()"
   ]
  },
  {
   "cell_type": "code",
   "execution_count": 4,
   "id": "fd1fc0c6",
   "metadata": {},
   "outputs": [
    {
     "data": {
      "text/plain": [
       "(204178, 7)"
      ]
     },
     "execution_count": 4,
     "metadata": {},
     "output_type": "execute_result"
    }
   ],
   "source": [
    "# check shape of data\n",
    "opal.shape"
   ]
  },
  {
   "cell_type": "code",
   "execution_count": 5,
   "id": "7aae5f3b",
   "metadata": {},
   "outputs": [
    {
     "data": {
      "text/plain": [
       "False"
      ]
     },
     "execution_count": 5,
     "metadata": {},
     "output_type": "execute_result"
    }
   ],
   "source": [
    "# check if any null values in dataframe\n",
    "opal.isnull().values.any()"
   ]
  },
  {
   "cell_type": "code",
   "execution_count": 6,
   "id": "f6b46c3a",
   "metadata": {},
   "outputs": [
    {
     "data": {
      "text/html": [
       "<div>\n",
       "<style scoped>\n",
       "    .dataframe tbody tr th:only-of-type {\n",
       "        vertical-align: middle;\n",
       "    }\n",
       "\n",
       "    .dataframe tbody tr th {\n",
       "        vertical-align: top;\n",
       "    }\n",
       "\n",
       "    .dataframe thead th {\n",
       "        text-align: right;\n",
       "    }\n",
       "</style>\n",
       "<table border=\"1\" class=\"dataframe\">\n",
       "  <thead>\n",
       "    <tr style=\"text-align: right;\">\n",
       "      <th></th>\n",
       "      <th>trip_origin_date</th>\n",
       "      <th>month</th>\n",
       "      <th>mode_name</th>\n",
       "      <th>ti_region</th>\n",
       "      <th>tap_hour</th>\n",
       "      <th>Adjusted_Tap_Ons</th>\n",
       "      <th>Adjusted_Tap_Offs</th>\n",
       "    </tr>\n",
       "  </thead>\n",
       "  <tbody>\n",
       "    <tr>\n",
       "      <th>count</th>\n",
       "      <td>204178</td>\n",
       "      <td>204178</td>\n",
       "      <td>204178</td>\n",
       "      <td>204178</td>\n",
       "      <td>204178.000000</td>\n",
       "      <td>204178.000000</td>\n",
       "      <td>204178.000000</td>\n",
       "    </tr>\n",
       "    <tr>\n",
       "      <th>unique</th>\n",
       "      <td>366</td>\n",
       "      <td>12</td>\n",
       "      <td>4</td>\n",
       "      <td>9</td>\n",
       "      <td>NaN</td>\n",
       "      <td>NaN</td>\n",
       "      <td>NaN</td>\n",
       "    </tr>\n",
       "    <tr>\n",
       "      <th>top</th>\n",
       "      <td>2020-01-01 00:00:00</td>\n",
       "      <td>Jan</td>\n",
       "      <td>Train</td>\n",
       "      <td>Sydney CBD</td>\n",
       "      <td>NaN</td>\n",
       "      <td>NaN</td>\n",
       "      <td>NaN</td>\n",
       "    </tr>\n",
       "    <tr>\n",
       "      <th>freq</th>\n",
       "      <td>589</td>\n",
       "      <td>17777</td>\n",
       "      <td>75533</td>\n",
       "      <td>33171</td>\n",
       "      <td>NaN</td>\n",
       "      <td>NaN</td>\n",
       "      <td>NaN</td>\n",
       "    </tr>\n",
       "    <tr>\n",
       "      <th>first</th>\n",
       "      <td>2020-01-01 00:00:00</td>\n",
       "      <td>NaN</td>\n",
       "      <td>NaN</td>\n",
       "      <td>NaN</td>\n",
       "      <td>NaN</td>\n",
       "      <td>NaN</td>\n",
       "      <td>NaN</td>\n",
       "    </tr>\n",
       "    <tr>\n",
       "      <th>last</th>\n",
       "      <td>2020-12-31 00:00:00</td>\n",
       "      <td>NaN</td>\n",
       "      <td>NaN</td>\n",
       "      <td>NaN</td>\n",
       "      <td>NaN</td>\n",
       "      <td>NaN</td>\n",
       "      <td>NaN</td>\n",
       "    </tr>\n",
       "    <tr>\n",
       "      <th>mean</th>\n",
       "      <td>NaN</td>\n",
       "      <td>NaN</td>\n",
       "      <td>NaN</td>\n",
       "      <td>NaN</td>\n",
       "      <td>12.202005</td>\n",
       "      <td>1996.830217</td>\n",
       "      <td>1997.267090</td>\n",
       "    </tr>\n",
       "    <tr>\n",
       "      <th>std</th>\n",
       "      <td>NaN</td>\n",
       "      <td>NaN</td>\n",
       "      <td>NaN</td>\n",
       "      <td>NaN</td>\n",
       "      <td>6.628662</td>\n",
       "      <td>6972.319576</td>\n",
       "      <td>6891.241649</td>\n",
       "    </tr>\n",
       "    <tr>\n",
       "      <th>min</th>\n",
       "      <td>NaN</td>\n",
       "      <td>NaN</td>\n",
       "      <td>NaN</td>\n",
       "      <td>NaN</td>\n",
       "      <td>0.000000</td>\n",
       "      <td>50.000000</td>\n",
       "      <td>50.000000</td>\n",
       "    </tr>\n",
       "    <tr>\n",
       "      <th>25%</th>\n",
       "      <td>NaN</td>\n",
       "      <td>NaN</td>\n",
       "      <td>NaN</td>\n",
       "      <td>NaN</td>\n",
       "      <td>7.000000</td>\n",
       "      <td>50.000000</td>\n",
       "      <td>50.000000</td>\n",
       "    </tr>\n",
       "    <tr>\n",
       "      <th>50%</th>\n",
       "      <td>NaN</td>\n",
       "      <td>NaN</td>\n",
       "      <td>NaN</td>\n",
       "      <td>NaN</td>\n",
       "      <td>12.000000</td>\n",
       "      <td>200.000000</td>\n",
       "      <td>200.000000</td>\n",
       "    </tr>\n",
       "    <tr>\n",
       "      <th>75%</th>\n",
       "      <td>NaN</td>\n",
       "      <td>NaN</td>\n",
       "      <td>NaN</td>\n",
       "      <td>NaN</td>\n",
       "      <td>18.000000</td>\n",
       "      <td>800.000000</td>\n",
       "      <td>800.000000</td>\n",
       "    </tr>\n",
       "    <tr>\n",
       "      <th>max</th>\n",
       "      <td>NaN</td>\n",
       "      <td>NaN</td>\n",
       "      <td>NaN</td>\n",
       "      <td>NaN</td>\n",
       "      <td>23.000000</td>\n",
       "      <td>147800.000000</td>\n",
       "      <td>118400.000000</td>\n",
       "    </tr>\n",
       "  </tbody>\n",
       "</table>\n",
       "</div>"
      ],
      "text/plain": [
       "           trip_origin_date   month mode_name   ti_region       tap_hour  \\\n",
       "count                204178  204178    204178      204178  204178.000000   \n",
       "unique                  366      12         4           9            NaN   \n",
       "top     2020-01-01 00:00:00     Jan     Train  Sydney CBD            NaN   \n",
       "freq                    589   17777     75533       33171            NaN   \n",
       "first   2020-01-01 00:00:00     NaN       NaN         NaN            NaN   \n",
       "last    2020-12-31 00:00:00     NaN       NaN         NaN            NaN   \n",
       "mean                    NaN     NaN       NaN         NaN      12.202005   \n",
       "std                     NaN     NaN       NaN         NaN       6.628662   \n",
       "min                     NaN     NaN       NaN         NaN       0.000000   \n",
       "25%                     NaN     NaN       NaN         NaN       7.000000   \n",
       "50%                     NaN     NaN       NaN         NaN      12.000000   \n",
       "75%                     NaN     NaN       NaN         NaN      18.000000   \n",
       "max                     NaN     NaN       NaN         NaN      23.000000   \n",
       "\n",
       "        Adjusted_Tap_Ons  Adjusted_Tap_Offs  \n",
       "count      204178.000000      204178.000000  \n",
       "unique               NaN                NaN  \n",
       "top                  NaN                NaN  \n",
       "freq                 NaN                NaN  \n",
       "first                NaN                NaN  \n",
       "last                 NaN                NaN  \n",
       "mean         1996.830217        1997.267090  \n",
       "std          6972.319576        6891.241649  \n",
       "min            50.000000          50.000000  \n",
       "25%            50.000000          50.000000  \n",
       "50%           200.000000         200.000000  \n",
       "75%           800.000000         800.000000  \n",
       "max        147800.000000      118400.000000  "
      ]
     },
     "execution_count": 6,
     "metadata": {},
     "output_type": "execute_result"
    }
   ],
   "source": [
    "# summary statistics\n",
    "opal.describe(include=\"all\")"
   ]
  },
  {
   "cell_type": "markdown",
   "id": "f250edbd",
   "metadata": {},
   "source": [
    "## Data Manipulation\n",
    "\n",
    "After Data Exploration, we adjust the opal dataset to faciliate analysis for transport patterns:\n",
    "1. Drop \"Other\" from regions since it is unable to identify the area it is referring to.\n",
    "2. Combine tap ons and tap offs to find the total opal usage per hour.\n",
    "3. Assign the day of week to data. "
   ]
  },
  {
   "cell_type": "code",
   "execution_count": 7,
   "id": "5f259f55",
   "metadata": {},
   "outputs": [
    {
     "name": "stdout",
     "output_type": "stream",
     "text": [
      "(171022, 9)\n",
      "  trip_origin_date month mode_name                ti_region  tap_hour  \\\n",
      "0       2020-01-01   Jan       Bus                Chatswood         0   \n",
      "1       2020-01-01   Jan       Bus           Macquarie Park         0   \n",
      "2       2020-01-01   Jan       Bus  Newcastle and surrounds         0   \n",
      "3       2020-01-01   Jan       Bus             North Sydney         0   \n",
      "5       2020-01-01   Jan       Bus               Parramatta         0   \n",
      "\n",
      "   Adjusted_Tap_Ons  Adjusted_Tap_Offs  Taps_in_total day_of_week  \n",
      "0                50                 50            100   Wednesday  \n",
      "1                50                 50            100   Wednesday  \n",
      "2                50                 50            100   Wednesday  \n",
      "3               700                100            800   Wednesday  \n",
      "5               100                 50            150   Wednesday  \n"
     ]
    }
   ],
   "source": [
    "# add a column to sum up tap ons and tap offs\n",
    "opal[\"Taps_in_total\"] = opal[\"Adjusted_Tap_Ons\"] + opal[\"Adjusted_Tap_Offs\"]\n",
    "\n",
    "# drop \"Other\" from cloumn \"ti_region\"\n",
    "opal = opal.drop(opal.index[opal['ti_region'] == 'Other'], inplace = False)\n",
    "\n",
    "# add day_of_week in data to conduct some analysis\n",
    "opal['day_of_week'] = opal['trip_origin_date'].dt.day_name()\n",
    "\n",
    "# check the shape and head of data\n",
    "print(opal.shape)\n",
    "print(opal.head())"
   ]
  },
  {
   "cell_type": "markdown",
   "id": "5bee9c77",
   "metadata": {},
   "source": [
    "- After dropping \"Other\" from regions, we still have 171,022 records for analysis."
   ]
  },
  {
   "cell_type": "markdown",
   "id": "ffd99773",
   "metadata": {},
   "source": [
    "## Data Normalisation"
   ]
  },
  {
   "cell_type": "code",
   "execution_count": 8,
   "id": "ea51e67b",
   "metadata": {},
   "outputs": [
    {
     "data": {
      "text/plain": [
       "Text(0.5, 1.05, 'Histogram of Tap Distribution')"
      ]
     },
     "execution_count": 8,
     "metadata": {},
     "output_type": "execute_result"
    },
    {
     "data": {
      "image/png": "[encoded data removed]",
      "text/plain": [
       "<Figure size 432x288 with 1 Axes>"
      ]
     },
     "metadata": {
      "needs_background": "light"
     },
     "output_type": "display_data"
    }
   ],
   "source": [
    "# check the distribution of total tap volume\n",
    "opal[\"Taps_in_total\"].hist()\n",
    "plt.title('Histogram of Tap Distribution', fontsize=14, fontweight='bold',loc = 'center', y=1.05)"
   ]
  },
  {
   "cell_type": "markdown",
   "id": "7e72642d",
   "metadata": {},
   "source": [
    "- From the Histogram, an extremely leftward skewed distribution is observed, thus, we decided to normalise the data by logging the data for analysis purposes."
   ]
  },
  {
   "cell_type": "code",
   "execution_count": 9,
   "id": "86c901af",
   "metadata": {},
   "outputs": [],
   "source": [
    "# log the data\n",
    "opal['logTap_Ons'] = np.log10(opal.Adjusted_Tap_Ons)\n",
    "opal['logTap_Offs'] = np.log10(opal.Adjusted_Tap_Offs)\n",
    "opal['logTaps_in_total'] = np.log10(opal.Taps_in_total)"
   ]
  },
  {
   "cell_type": "code",
   "execution_count": 10,
   "id": "9f4a6043",
   "metadata": {},
   "outputs": [
    {
     "data": {
      "text/html": [
       "<div>\n",
       "<style scoped>\n",
       "    .dataframe tbody tr th:only-of-type {\n",
       "        vertical-align: middle;\n",
       "    }\n",
       "\n",
       "    .dataframe tbody tr th {\n",
       "        vertical-align: top;\n",
       "    }\n",
       "\n",
       "    .dataframe thead th {\n",
       "        text-align: right;\n",
       "    }\n",
       "</style>\n",
       "<table border=\"1\" class=\"dataframe\">\n",
       "  <thead>\n",
       "    <tr style=\"text-align: right;\">\n",
       "      <th></th>\n",
       "      <th>skew</th>\n",
       "      <th>kurtosis</th>\n",
       "    </tr>\n",
       "  </thead>\n",
       "  <tbody>\n",
       "    <tr>\n",
       "      <th>tap_hour</th>\n",
       "      <td>-0.115998</td>\n",
       "      <td>-1.062266</td>\n",
       "    </tr>\n",
       "    <tr>\n",
       "      <th>Adjusted_Tap_Ons</th>\n",
       "      <td>14.797408</td>\n",
       "      <td>344.624424</td>\n",
       "    </tr>\n",
       "    <tr>\n",
       "      <th>Adjusted_Tap_Offs</th>\n",
       "      <td>17.841049</td>\n",
       "      <td>500.188224</td>\n",
       "    </tr>\n",
       "    <tr>\n",
       "      <th>Taps_in_total</th>\n",
       "      <td>10.987337</td>\n",
       "      <td>185.571786</td>\n",
       "    </tr>\n",
       "    <tr>\n",
       "      <th>logTap_Ons</th>\n",
       "      <td>0.824272</td>\n",
       "      <td>-0.090569</td>\n",
       "    </tr>\n",
       "    <tr>\n",
       "      <th>logTap_Offs</th>\n",
       "      <td>0.879931</td>\n",
       "      <td>0.052115</td>\n",
       "    </tr>\n",
       "    <tr>\n",
       "      <th>logTaps_in_total</th>\n",
       "      <td>0.844561</td>\n",
       "      <td>-0.064197</td>\n",
       "    </tr>\n",
       "  </tbody>\n",
       "</table>\n",
       "</div>"
      ],
      "text/plain": [
       "                        skew    kurtosis\n",
       "tap_hour           -0.115998   -1.062266\n",
       "Adjusted_Tap_Ons   14.797408  344.624424\n",
       "Adjusted_Tap_Offs  17.841049  500.188224\n",
       "Taps_in_total      10.987337  185.571786\n",
       "logTap_Ons          0.824272   -0.090569\n",
       "logTap_Offs         0.879931    0.052115\n",
       "logTaps_in_total    0.844561   -0.064197"
      ]
     },
     "execution_count": 10,
     "metadata": {},
     "output_type": "execute_result"
    }
   ],
   "source": [
    "# Checking the result of normalisation\n",
    "opal.agg(['skew', 'kurtosis']).transpose()"
   ]
  },
  {
   "cell_type": "markdown",
   "id": "24d642f5",
   "metadata": {},
   "source": [
    "- The skewness for tap in total shapely reduced from 10.98 to 0.84 after logging, which is still slightly skewed. However, due to large sample size, it is acceptable to assume normality due to Central Limit Theorem. "
   ]
  },
  {
   "cell_type": "markdown",
   "id": "f64b5b05",
   "metadata": {},
   "source": [
    "## Opal User's Travel Pattern Analysis\n",
    "\n",
    "We look at travel patterns from opal usage by:\n",
    "1. Travel Frequency (How often)\n",
    "2. Time of Travel (When)\n",
    "3. Travel Regions (Where)\n",
    "4. Travel Mode Preferences (Modes)"
   ]
  },
  {
   "cell_type": "markdown",
   "id": "46f86ee5",
   "metadata": {},
   "source": [
    "### 1. Travel Frequency of Opal Users in NSW"
   ]
  },
  {
   "cell_type": "code",
   "execution_count": 11,
   "id": "885c78a4",
   "metadata": {},
   "outputs": [
    {
     "data": {
      "image/png": "[encoded data removed]",
      "text/plain": [
       "<Figure size 864x360 with 1 Axes>"
      ]
     },
     "metadata": {
      "needs_background": "light"
     },
     "output_type": "display_data"
    }
   ],
   "source": [
    "## group data by date\n",
    "opal_total = opal.groupby(['trip_origin_date'] )['Taps_in_total'].sum()\n",
    "\n",
    "## visualise the travel frequency in time series\n",
    "fig, ax =plt.subplots(figsize=(12,5))\n",
    "opal_total.plot(kind='line')\n",
    "plt.title('Opal Tap Volume in 2020', fontsize=14, fontweight='bold',loc = 'center', y=1.05)\n",
    "plt.xlabel(\"Date\")\n",
    "\n",
    "# setting the yticks to have 0 decimal place to show all digits\n",
    "yy, locs = plt.yticks()\n",
    "ll = ['%.f' % a for a in yy]\n",
    "plt.yticks(yy, ll)\n",
    "plt.show()"
   ]
  },
  {
   "cell_type": "markdown",
   "id": "30bdcc12",
   "metadata": {},
   "source": [
    "- The maximum opal usage happened in late February with around 1.75 million usage, where the lowest usage was in mid-April with less than 100000 usage.\n",
    "- _**Please note that the sharp fall in usage from April onwards is coincided with the time where government imposed COVID-19 restrictions on travelling. As a result, \"months\" will not be included as a factor in our estimation model since this is affected by a one-time event.**_"
   ]
  },
  {
   "cell_type": "code",
   "execution_count": 12,
   "id": "8fe47455",
   "metadata": {},
   "outputs": [
    {
     "data": {
      "image/png": "[encoded data removed]",
      "text/plain": [
       "<Figure size 864x360 with 1 Axes>"
      ]
     },
     "metadata": {
      "needs_background": "light"
     },
     "output_type": "display_data"
    }
   ],
   "source": [
    "## get the day of week in order\n",
    "opal['day_of_week'] = pd.Categorical(opal['day_of_week'], \n",
    "                                     categories= \n",
    "                                     ['Monday','Tuesday','Wednesday','Thursday','Friday','Saturday', 'Sunday'],\n",
    "                                     ordered=True)\n",
    "\n",
    "## take a closer look in the pattern where day of week is used to categorised the data\n",
    "opal_weekly = opal.groupby(['day_of_week'] )['Taps_in_total'].sum()\n",
    "\n",
    "fig, ax =plt.subplots(figsize=(12,5))\n",
    "opal_weekly.plot(kind ='bar')\n",
    "plt.title('Opal Tap Volume by Day of Week', fontsize=14, fontweight='bold',loc = 'center', y=1.05)\n",
    "plt.xlabel(\"Day of week\")\n",
    "plt.xticks(rotation=0)\n",
    "\n",
    "# setting the yticks to have 0 decimal place to show all digits\n",
    "yy, locs = plt.yticks()\n",
    "ll = ['%.f' % a for a in yy]\n",
    "plt.yticks(yy, ll)\n",
    "plt.show()"
   ]
  },
  {
   "cell_type": "markdown",
   "id": "94170314",
   "metadata": {},
   "source": [
    "- The graph above shows a weekly pattern of opal usage across all transport mode. \n",
    "- It is observed that weekdays generated more tap volume than weekends."
   ]
  },
  {
   "cell_type": "markdown",
   "id": "77f828f2",
   "metadata": {},
   "source": [
    "Create a dummy variable for weekday versus weekend for further exploration and testing in regression analysis."
   ]
  },
  {
   "cell_type": "code",
   "execution_count": 13,
   "id": "a93789ae",
   "metadata": {},
   "outputs": [],
   "source": [
    "# create a new variable to categorize weekday and weekend for regression analysis later\n",
    "result = []\n",
    "for x in opal ['day_of_week']:\n",
    "    if x == 'Saturday':\n",
    "        result.append('0')\n",
    "    elif x == 'Sunday':\n",
    "        result.append('0')\n",
    "    else:\n",
    "        result.append('1')\n",
    "        \n",
    "opal[\"Weekday_reg\"] = result   "
   ]
  },
  {
   "cell_type": "code",
   "execution_count": 14,
   "id": "0755cbce",
   "metadata": {},
   "outputs": [
    {
     "data": {
      "text/plain": [
       "Text(0.5, 1.05, 'Countplot of Weekday Taps')"
      ]
     },
     "execution_count": 14,
     "metadata": {},
     "output_type": "execute_result"
    },
    {
     "data": {
      "image/png": "[encoded data removed]",
      "text/plain": [
       "<Figure size 432x288 with 1 Axes>"
      ]
     },
     "metadata": {
      "needs_background": "light"
     },
     "output_type": "display_data"
    }
   ],
   "source": [
    "# visualise the difference between weekday and weekend\n",
    "sns.countplot(x = \"Weekday_reg\", data = opal)\n",
    "plt.title('Countplot of Weekday Taps', fontsize=14, fontweight='bold',loc = 'center', y=1.05)"
   ]
  },
  {
   "cell_type": "markdown",
   "id": "0815a407",
   "metadata": {},
   "source": [
    "### 2. When did Opal Users Travel"
   ]
  },
  {
   "cell_type": "code",
   "execution_count": 15,
   "id": "add6cf99",
   "metadata": {},
   "outputs": [
    {
     "data": {
      "image/png": "[encoded data removed]",
      "text/plain": [
       "<Figure size 864x360 with 1 Axes>"
      ]
     },
     "metadata": {
      "needs_background": "light"
     },
     "output_type": "display_data"
    }
   ],
   "source": [
    "## group data by time\n",
    "opal_hour = opal.groupby(['tap_hour'] )['Taps_in_total'].sum()\n",
    "\n",
    "## visualise the travel frequency in time series\n",
    "fig, ax =plt.subplots(figsize=(12,5))\n",
    "opal_hour.plot(kind='bar')\n",
    "plt.title('Tap Volume by Tap Hours', fontsize=14, fontweight='bold',loc = 'center', y=1.05)\n",
    "plt.xlabel(\"Hour\")\n",
    "plt.xticks(rotation=0)\n",
    "\n",
    "# setting the yticks to have 0 decimal place to show all digits\n",
    "yy, locs = plt.yticks()\n",
    "ll = ['%.f' % a for a in yy]\n",
    "plt.yticks(yy, ll)\n",
    "plt.show()"
   ]
  },
  {
   "cell_type": "markdown",
   "id": "72e826f1",
   "metadata": {},
   "source": [
    "- Mid-night hours from 12 am - 6 am reported with fairly low usage.\n",
    "- The peak hours of usage is at 8 am (total tap volume at 25,826,300) and 5 pm (total tap volume at 26,685,900), which can be reasonably explained by the offices working hours in general."
   ]
  },
  {
   "cell_type": "markdown",
   "id": "60585b30",
   "metadata": {},
   "source": [
    "Create a dummy variable for peak hours versus non-peak hours for further exploration and testing in regression analysis."
   ]
  },
  {
   "cell_type": "code",
   "execution_count": 16,
   "id": "dce60e4f",
   "metadata": {},
   "outputs": [],
   "source": [
    "## create a new variable for peak vs non-peak hours\n",
    "result = []\n",
    "for x in opal ['tap_hour']:\n",
    "    if x == 8:\n",
    "        result.append('1')\n",
    "    elif x > 14 and x < 18:\n",
    "        result.append('1')\n",
    "    else:\n",
    "        result.append('0')\n",
    "        \n",
    "opal[\"peak_hour\"] = result   "
   ]
  },
  {
   "cell_type": "code",
   "execution_count": 17,
   "id": "1d7204c3",
   "metadata": {},
   "outputs": [
    {
     "data": {
      "image/png": "[encoded data removed]",
      "text/plain": [
       "<Figure size 432x288 with 1 Axes>"
      ]
     },
     "metadata": {
      "needs_background": "light"
     },
     "output_type": "display_data"
    }
   ],
   "source": [
    "## group data by time\n",
    "opal_peak = opal.groupby([\"peak_hour\"] )['Taps_in_total'].sum()\n",
    "\n",
    "## visualise the travel frequency by peak hours vs non-peak hours\n",
    "opal_peak.plot(kind='bar')\n",
    "plt.title('Countplot of Peak Hour Taps', fontsize=14, fontweight='bold',loc = 'center', y=1.05)\n",
    "plt.xlabel(\"Peak Hour\")\n",
    "plt.xticks(rotation=0)\n",
    "\n",
    "# setting the yticks to have 0 decimal place to show all digits\n",
    "yy, locs = plt.yticks()\n",
    "ll = ['%.f' % a for a in yy]\n",
    "plt.yticks(yy, ll)\n",
    "plt.show()"
   ]
  },
  {
   "cell_type": "markdown",
   "id": "733c7f30",
   "metadata": {},
   "source": [
    "Create a dummy variable for midnight hours versus non-midnight hours for further exploration and testing in regression analysis."
   ]
  },
  {
   "cell_type": "code",
   "execution_count": 18,
   "id": "cd1a9537",
   "metadata": {},
   "outputs": [],
   "source": [
    "## create a new variable for midnight vs non-midnight\n",
    "result = []\n",
    "for x in opal ['tap_hour']:\n",
    "    if x > 0 and x < 6:\n",
    "        result.append('1')\n",
    "    else:\n",
    "        result.append('0')\n",
    "        \n",
    "opal[\"midnight_hour\"] = result   "
   ]
  },
  {
   "cell_type": "code",
   "execution_count": 19,
   "id": "b37a6a38",
   "metadata": {},
   "outputs": [
    {
     "data": {
      "image/png": "[encoded data removed]",
      "text/plain": [
       "<Figure size 432x288 with 1 Axes>"
      ]
     },
     "metadata": {
      "needs_background": "light"
     },
     "output_type": "display_data"
    }
   ],
   "source": [
    "## group data by time\n",
    "opal_peak = opal.groupby([\"midnight_hour\"] )['Taps_in_total'].sum()\n",
    "\n",
    "## visualise the travel frequency in time series\n",
    "opal_peak.plot(kind='bar')\n",
    "plt.title('Countplot of Midnight Hour Taps', fontsize=14, fontweight='bold',loc = 'center', y=1.05)\n",
    "plt.xlabel(\"Midnight Hour\")\n",
    "plt.xticks(rotation=0)\n",
    "\n",
    "# setting the yticks to have 0 decimal place to show all digits\n",
    "yy, locs = plt.yticks()\n",
    "ll = ['%.f' % a for a in yy]\n",
    "plt.yticks(yy, ll)\n",
    "plt.show()\n"
   ]
  },
  {
   "cell_type": "markdown",
   "id": "bc0b8e97",
   "metadata": {},
   "source": [
    "### 3. Where Do Opal Users Travel"
   ]
  },
  {
   "cell_type": "code",
   "execution_count": 20,
   "id": "65cba9f7",
   "metadata": {},
   "outputs": [
    {
     "data": {
      "image/png": "[encoded data removed]",
      "text/plain": [
       "<Figure size 864x360 with 1 Axes>"
      ]
     },
     "metadata": {
      "needs_background": "light"
     },
     "output_type": "display_data"
    }
   ],
   "source": [
    "# Looking at the top region of NSW where people commonly travel\n",
    "opal_LGA = opal.groupby(['ti_region'] )['Taps_in_total'].sum()\n",
    "\n",
    "# Visualizing the data\n",
    "fig, ax =plt.subplots(figsize=(12,5))\n",
    "opal_LGA.plot(kind='barh')\n",
    "plt.title('Tap Volume by Main Travel Regions in NSW', fontsize=14, fontweight='bold',loc = 'center', y=1.05)\n",
    "plt.ylabel(\"Region\")\n",
    "\n",
    "# setting the xticks to have 0 decimal place to show all digits\n",
    "xx, locs = plt.xticks()\n",
    "ll = ['%.f' % a for a in xx]\n",
    "plt.xticks(xx, ll)\n",
    "plt.show()"
   ]
  },
  {
   "cell_type": "markdown",
   "id": "53374d05",
   "metadata": {},
   "source": [
    "- From the graph above, Sydney CBD is the top region where people commonly travel to and from, followed by Paramatta, then North Sydney."
   ]
  },
  {
   "cell_type": "markdown",
   "id": "2f3925e3",
   "metadata": {},
   "source": [
    "Plot a Heatmap to show relationship between travel regions and tap hours:"
   ]
  },
  {
   "cell_type": "code",
   "execution_count": 21,
   "id": "ce681d0d",
   "metadata": {},
   "outputs": [
    {
     "data": {
      "text/plain": [
       "Text(0.5, 105.54000000000005, 'Hour')"
      ]
     },
     "execution_count": 21,
     "metadata": {},
     "output_type": "execute_result"
    },
    {
     "data": {
      "image/png": "[encoded data removed]",
      "text/plain": [
       "<Figure size 864x360 with 2 Axes>"
      ]
     },
     "metadata": {
      "needs_background": "light"
     },
     "output_type": "display_data"
    }
   ],
   "source": [
    "# rearrange the data to generate a heatmap\n",
    "opal_LGA_hour = opal.groupby(['tap_hour','ti_region'] )['Taps_in_total'].sum().reset_index()\n",
    "Counts = opal_LGA_hour.pivot(index = 'ti_region', columns ='tap_hour', values = 'Taps_in_total')\n",
    "plt.figure(figsize=(12, 5))\n",
    "plt.title('Heatmap: Relationship between Regions and Tap Hours', fontsize=14, fontweight='bold',loc = 'center', y=1.05)\n",
    "\n",
    "cbar_kws = {\"orientation\": \"horizontal\",\n",
    "            'label':'Tap Volume'}\n",
    "\n",
    "sns.heatmap(Counts, cmap =\"GnBu\", linewidths=.5, cbar_kws=cbar_kws)\n",
    "plt.ylabel(\"Region\")\n",
    "plt.xlabel(\"Hour\")"
   ]
  },
  {
   "cell_type": "markdown",
   "id": "6422663b",
   "metadata": {},
   "source": [
    "From the heatmap above, \n",
    "- the opal usage is coincided with the pattern of peak vs non-peak hour, which may indicate the time of taps is important for our model estimation.\n",
    "- Sydney CBD is the main spot of travel for opal users. "
   ]
  },
  {
   "cell_type": "markdown",
   "id": "568d1ae2",
   "metadata": {},
   "source": [
    "### 4. Travel Mode Preferences"
   ]
  },
  {
   "cell_type": "code",
   "execution_count": 22,
   "id": "2af13b08",
   "metadata": {},
   "outputs": [],
   "source": [
    "# Looking at tap volume by transport modes\n",
    "opal_mode = opal.groupby(\"mode_name\")[\"Taps_in_total\"].sum()"
   ]
  },
  {
   "cell_type": "code",
   "execution_count": 23,
   "id": "f902a6e7",
   "metadata": {},
   "outputs": [
    {
     "data": {
      "image/png": "[encoded data removed]",
      "text/plain": [
       "<Figure size 864x360 with 1 Axes>"
      ]
     },
     "metadata": {
      "needs_background": "light"
     },
     "output_type": "display_data"
    }
   ],
   "source": [
    "## visualise the travel mode preferences\n",
    "fig, ax =plt.subplots(figsize=(12,5))\n",
    "opal_mode.plot(kind='bar')\n",
    "plt.title('Tap Volume by Transportation', fontsize=14, fontweight='bold',loc = 'center', y=1.05)\n",
    "plt.xlabel(\"Mode\")\n",
    "plt.xticks(rotation=0)\n",
    "\n",
    "# setting the yticks to have 0 decimal place to show all digits\n",
    "yy, locs = plt.yticks()\n",
    "ll = ['%.f' % a for a in yy]\n",
    "plt.yticks(yy, ll)\n",
    "plt.show()"
   ]
  },
  {
   "cell_type": "markdown",
   "id": "4c52d0b4",
   "metadata": {},
   "source": [
    "- From the graph above, it is clear that train is the most popular transport in NSW, followed by bus. The opal usage for train is more than double of that for bus. Ferry is the least common transport in NSW."
   ]
  },
  {
   "cell_type": "markdown",
   "id": "74416894",
   "metadata": {},
   "source": [
    "Plot a Heatmap to show relationship between transport modes and tap hours:"
   ]
  },
  {
   "cell_type": "code",
   "execution_count": 24,
   "id": "3f6771b6",
   "metadata": {},
   "outputs": [
    {
     "data": {
      "text/plain": [
       "(array([0.5, 1.5, 2.5, 3.5]),\n",
       " [Text(0, 0.5, 'Bus'),\n",
       "  Text(0, 1.5, 'Ferry'),\n",
       "  Text(0, 2.5, 'Light rail'),\n",
       "  Text(0, 3.5, 'Train')])"
      ]
     },
     "execution_count": 24,
     "metadata": {},
     "output_type": "execute_result"
    },
    {
     "data": {
      "image/png": "[encoded data removed]",
      "text/plain": [
       "<Figure size 864x360 with 2 Axes>"
      ]
     },
     "metadata": {
      "needs_background": "light"
     },
     "output_type": "display_data"
    }
   ],
   "source": [
    "# rearrange the data to generate a heatmap\n",
    "opal_LGA_hour = opal.groupby(['tap_hour','mode_name'] )['Taps_in_total'].sum().reset_index()\n",
    "Counts = opal_LGA_hour.pivot(index = 'mode_name', columns ='tap_hour', values = 'Taps_in_total')\n",
    "plt.figure(figsize=(12, 5))\n",
    "plt.title('Heatmap: Relationship between Transport Mode and Tap Hour', fontsize=14, fontweight='bold',loc = 'center', y=1.05)\n",
    "\n",
    "cbar_kws = {\"orientation\": \"horizontal\",\n",
    "            'label':'Tap Volume'}\n",
    "\n",
    "sns.heatmap(Counts, cmap =\"YlGn\", linewidths=.5, cbar_kws=cbar_kws)\n",
    "plt.ylabel(\"Transport Mode\")\n",
    "plt.xlabel(\"Hour\")\n",
    "plt.yticks(rotation=0)"
   ]
  },
  {
   "cell_type": "markdown",
   "id": "93b32d5b",
   "metadata": {},
   "source": [
    "From the heatmap above,\n",
    "- the usage by transport mode is also coincided with the pattern of peak vs non-peak hour, which may indicate time of taps is important for our model estimation.\n",
    "- the usage of train and bus seem to be largely affected by rush hours, while ferry seems to be least affected by that."
   ]
  },
  {
   "cell_type": "markdown",
   "id": "9a9e1eac",
   "metadata": {},
   "source": [
    "## Demographics Factors\n",
    "\n",
    "We explore different demographic varaibles to see if there is any relations to opal usage."
   ]
  },
  {
   "cell_type": "markdown",
   "id": "748f12f4",
   "metadata": {},
   "source": [
    "### Combine Opal Data with HTS Data"
   ]
  },
  {
   "cell_type": "code",
   "execution_count": 25,
   "id": "92618bb5",
   "metadata": {},
   "outputs": [
    {
     "data": {
      "text/html": [
       "<div>\n",
       "<style scoped>\n",
       "    .dataframe tbody tr th:only-of-type {\n",
       "        vertical-align: middle;\n",
       "    }\n",
       "\n",
       "    .dataframe tbody tr th {\n",
       "        vertical-align: top;\n",
       "    }\n",
       "\n",
       "    .dataframe thead th {\n",
       "        text-align: right;\n",
       "    }\n",
       "</style>\n",
       "<table border=\"1\" class=\"dataframe\">\n",
       "  <thead>\n",
       "    <tr style=\"text-align: right;\">\n",
       "      <th></th>\n",
       "      <th>WAVE</th>\n",
       "      <th>REGION_ID</th>\n",
       "      <th>REGION_NAME</th>\n",
       "      <th>LGA_ID</th>\n",
       "      <th>LGA_NAME</th>\n",
       "      <th>AREA_SQ_KM</th>\n",
       "      <th>WEIGHTED_POPULATION</th>\n",
       "      <th>WEIGHTED_HOUSEHOLDS</th>\n",
       "      <th>WEIGHTED_VEHICLES</th>\n",
       "      <th>Unnamed: 9</th>\n",
       "      <th>Unnamed: 10</th>\n",
       "      <th>Unnamed: 11</th>\n",
       "      <th>Unnamed: 12</th>\n",
       "      <th>Unnamed: 13</th>\n",
       "      <th>Unnamed: 14</th>\n",
       "      <th>Unnamed: 15</th>\n",
       "      <th>Unnamed: 16</th>\n",
       "      <th>Unnamed: 17</th>\n",
       "    </tr>\n",
       "  </thead>\n",
       "  <tbody>\n",
       "    <tr>\n",
       "      <th>0</th>\n",
       "      <td>2016/17</td>\n",
       "      <td>1</td>\n",
       "      <td>Sydney GCCSA</td>\n",
       "      <td>750</td>\n",
       "      <td>Blacktown</td>\n",
       "      <td>240</td>\n",
       "      <td>341000</td>\n",
       "      <td>115000</td>\n",
       "      <td>203000</td>\n",
       "      <td>NaN</td>\n",
       "      <td>NaN</td>\n",
       "      <td>NaN</td>\n",
       "      <td>NaN</td>\n",
       "      <td>NaN</td>\n",
       "      <td>NaN</td>\n",
       "      <td>NaN</td>\n",
       "      <td>NaN</td>\n",
       "      <td>NaN</td>\n",
       "    </tr>\n",
       "    <tr>\n",
       "      <th>1</th>\n",
       "      <td>2016/17</td>\n",
       "      <td>1</td>\n",
       "      <td>Sydney GCCSA</td>\n",
       "      <td>900</td>\n",
       "      <td>Blue Mountains</td>\n",
       "      <td>1431</td>\n",
       "      <td>76000</td>\n",
       "      <td>30000</td>\n",
       "      <td>53000</td>\n",
       "      <td>NaN</td>\n",
       "      <td>NaN</td>\n",
       "      <td>NaN</td>\n",
       "      <td>NaN</td>\n",
       "      <td>NaN</td>\n",
       "      <td>NaN</td>\n",
       "      <td>NaN</td>\n",
       "      <td>NaN</td>\n",
       "      <td>NaN</td>\n",
       "    </tr>\n",
       "    <tr>\n",
       "      <th>2</th>\n",
       "      <td>2016/17</td>\n",
       "      <td>1</td>\n",
       "      <td>Sydney GCCSA</td>\n",
       "      <td>1100</td>\n",
       "      <td>Botany Bay</td>\n",
       "      <td>22</td>\n",
       "      <td>47000</td>\n",
       "      <td>17000</td>\n",
       "      <td>23000</td>\n",
       "      <td>NaN</td>\n",
       "      <td>NaN</td>\n",
       "      <td>NaN</td>\n",
       "      <td>NaN</td>\n",
       "      <td>NaN</td>\n",
       "      <td>NaN</td>\n",
       "      <td>NaN</td>\n",
       "      <td>NaN</td>\n",
       "      <td>NaN</td>\n",
       "    </tr>\n",
       "    <tr>\n",
       "      <th>3</th>\n",
       "      <td>2016/17</td>\n",
       "      <td>1</td>\n",
       "      <td>Sydney GCCSA</td>\n",
       "      <td>1300</td>\n",
       "      <td>Burwood</td>\n",
       "      <td>7</td>\n",
       "      <td>35000</td>\n",
       "      <td>11000</td>\n",
       "      <td>17000</td>\n",
       "      <td>NaN</td>\n",
       "      <td>NaN</td>\n",
       "      <td>NaN</td>\n",
       "      <td>NaN</td>\n",
       "      <td>NaN</td>\n",
       "      <td>NaN</td>\n",
       "      <td>NaN</td>\n",
       "      <td>NaN</td>\n",
       "      <td>NaN</td>\n",
       "    </tr>\n",
       "    <tr>\n",
       "      <th>4</th>\n",
       "      <td>2016/17</td>\n",
       "      <td>1</td>\n",
       "      <td>Sydney GCCSA</td>\n",
       "      <td>1450</td>\n",
       "      <td>Camden</td>\n",
       "      <td>201</td>\n",
       "      <td>79000</td>\n",
       "      <td>27000</td>\n",
       "      <td>60000</td>\n",
       "      <td>NaN</td>\n",
       "      <td>NaN</td>\n",
       "      <td>NaN</td>\n",
       "      <td>NaN</td>\n",
       "      <td>NaN</td>\n",
       "      <td>NaN</td>\n",
       "      <td>NaN</td>\n",
       "      <td>NaN</td>\n",
       "      <td>NaN</td>\n",
       "    </tr>\n",
       "  </tbody>\n",
       "</table>\n",
       "</div>"
      ],
      "text/plain": [
       "      WAVE  REGION_ID   REGION_NAME  LGA_ID        LGA_NAME  AREA_SQ_KM  \\\n",
       "0  2016/17          1  Sydney GCCSA     750       Blacktown         240   \n",
       "1  2016/17          1  Sydney GCCSA     900  Blue Mountains        1431   \n",
       "2  2016/17          1  Sydney GCCSA    1100      Botany Bay          22   \n",
       "3  2016/17          1  Sydney GCCSA    1300         Burwood           7   \n",
       "4  2016/17          1  Sydney GCCSA    1450          Camden         201   \n",
       "\n",
       "   WEIGHTED_POPULATION  WEIGHTED_HOUSEHOLDS  WEIGHTED_VEHICLES  Unnamed: 9  \\\n",
       "0               341000               115000             203000         NaN   \n",
       "1                76000                30000              53000         NaN   \n",
       "2                47000                17000              23000         NaN   \n",
       "3                35000                11000              17000         NaN   \n",
       "4                79000                27000              60000         NaN   \n",
       "\n",
       "   Unnamed: 10  Unnamed: 11  Unnamed: 12  Unnamed: 13  Unnamed: 14  \\\n",
       "0          NaN          NaN          NaN          NaN          NaN   \n",
       "1          NaN          NaN          NaN          NaN          NaN   \n",
       "2          NaN          NaN          NaN          NaN          NaN   \n",
       "3          NaN          NaN          NaN          NaN          NaN   \n",
       "4          NaN          NaN          NaN          NaN          NaN   \n",
       "\n",
       "   Unnamed: 15  Unnamed: 16  Unnamed: 17  \n",
       "0          NaN          NaN          NaN  \n",
       "1          NaN          NaN          NaN  \n",
       "2          NaN          NaN          NaN  \n",
       "3          NaN          NaN          NaN  \n",
       "4          NaN          NaN          NaN  "
      ]
     },
     "execution_count": 25,
     "metadata": {},
     "output_type": "execute_result"
    }
   ],
   "source": [
    "# adding new data set with data by LGA , and match opal regions with LGA\n",
    "xls = pd.ExcelFile('data/HTS Data by LGA.xlsx')\n",
    "demogr = pd.read_excel(xls, 'Demographics by LGA')\n",
    "demogr.head()"
   ]
  },
  {
   "cell_type": "markdown",
   "id": "3c299273",
   "metadata": {},
   "source": [
    "Combine the opal dataset with demographic data by region using Local Government Areas (LGA) as below:\n",
    "\n",
    "|  Region Name in Opal      |  LGA Name     |\n",
    "|:--------------------------|:--------------|\n",
    "|  Chatswood                |  Willoughby   |\n",
    "|  Macquarie Park           |  Ryde         |\n",
    "|  Newcastle and surrounds  |  Newcastle    |\n",
    "|  North Sydney             |  North Sydney |\n",
    "|  Parramatta               |  Parramatta   |\n",
    "|  Strathfield              |  Strathfield  |\n",
    "|  Sydney CBD               |  Sydney       |\n",
    "|  Wollongong and surrounds |  Wollongong   |"
   ]
  },
  {
   "cell_type": "code",
   "execution_count": 26,
   "id": "37679988",
   "metadata": {},
   "outputs": [
    {
     "data": {
      "text/html": [
       "<div>\n",
       "<style scoped>\n",
       "    .dataframe tbody tr th:only-of-type {\n",
       "        vertical-align: middle;\n",
       "    }\n",
       "\n",
       "    .dataframe tbody tr th {\n",
       "        vertical-align: top;\n",
       "    }\n",
       "\n",
       "    .dataframe thead th {\n",
       "        text-align: right;\n",
       "    }\n",
       "</style>\n",
       "<table border=\"1\" class=\"dataframe\">\n",
       "  <thead>\n",
       "    <tr style=\"text-align: right;\">\n",
       "      <th></th>\n",
       "      <th>trip_origin_date</th>\n",
       "      <th>month</th>\n",
       "      <th>mode_name</th>\n",
       "      <th>ti_region</th>\n",
       "      <th>tap_hour</th>\n",
       "      <th>Adjusted_Tap_Ons</th>\n",
       "      <th>Adjusted_Tap_Offs</th>\n",
       "      <th>Taps_in_total</th>\n",
       "      <th>day_of_week</th>\n",
       "      <th>logTap_Ons</th>\n",
       "      <th>logTap_Offs</th>\n",
       "      <th>logTaps_in_total</th>\n",
       "      <th>Weekday_reg</th>\n",
       "      <th>peak_hour</th>\n",
       "      <th>midnight_hour</th>\n",
       "      <th>LGA</th>\n",
       "    </tr>\n",
       "  </thead>\n",
       "  <tbody>\n",
       "    <tr>\n",
       "      <th>0</th>\n",
       "      <td>2020-01-01</td>\n",
       "      <td>Jan</td>\n",
       "      <td>Bus</td>\n",
       "      <td>Chatswood</td>\n",
       "      <td>0</td>\n",
       "      <td>50</td>\n",
       "      <td>50</td>\n",
       "      <td>100</td>\n",
       "      <td>Wednesday</td>\n",
       "      <td>1.698970</td>\n",
       "      <td>1.69897</td>\n",
       "      <td>2.000000</td>\n",
       "      <td>1</td>\n",
       "      <td>0</td>\n",
       "      <td>0</td>\n",
       "      <td>Willoughby</td>\n",
       "    </tr>\n",
       "    <tr>\n",
       "      <th>1</th>\n",
       "      <td>2020-01-01</td>\n",
       "      <td>Jan</td>\n",
       "      <td>Bus</td>\n",
       "      <td>Macquarie Park</td>\n",
       "      <td>0</td>\n",
       "      <td>50</td>\n",
       "      <td>50</td>\n",
       "      <td>100</td>\n",
       "      <td>Wednesday</td>\n",
       "      <td>1.698970</td>\n",
       "      <td>1.69897</td>\n",
       "      <td>2.000000</td>\n",
       "      <td>1</td>\n",
       "      <td>0</td>\n",
       "      <td>0</td>\n",
       "      <td>Ryde</td>\n",
       "    </tr>\n",
       "    <tr>\n",
       "      <th>2</th>\n",
       "      <td>2020-01-01</td>\n",
       "      <td>Jan</td>\n",
       "      <td>Bus</td>\n",
       "      <td>Newcastle and surrounds</td>\n",
       "      <td>0</td>\n",
       "      <td>50</td>\n",
       "      <td>50</td>\n",
       "      <td>100</td>\n",
       "      <td>Wednesday</td>\n",
       "      <td>1.698970</td>\n",
       "      <td>1.69897</td>\n",
       "      <td>2.000000</td>\n",
       "      <td>1</td>\n",
       "      <td>0</td>\n",
       "      <td>0</td>\n",
       "      <td>Newcastle</td>\n",
       "    </tr>\n",
       "    <tr>\n",
       "      <th>3</th>\n",
       "      <td>2020-01-01</td>\n",
       "      <td>Jan</td>\n",
       "      <td>Bus</td>\n",
       "      <td>North Sydney</td>\n",
       "      <td>0</td>\n",
       "      <td>700</td>\n",
       "      <td>100</td>\n",
       "      <td>800</td>\n",
       "      <td>Wednesday</td>\n",
       "      <td>2.845098</td>\n",
       "      <td>2.00000</td>\n",
       "      <td>2.903090</td>\n",
       "      <td>1</td>\n",
       "      <td>0</td>\n",
       "      <td>0</td>\n",
       "      <td>North Sydney</td>\n",
       "    </tr>\n",
       "    <tr>\n",
       "      <th>5</th>\n",
       "      <td>2020-01-01</td>\n",
       "      <td>Jan</td>\n",
       "      <td>Bus</td>\n",
       "      <td>Parramatta</td>\n",
       "      <td>0</td>\n",
       "      <td>100</td>\n",
       "      <td>50</td>\n",
       "      <td>150</td>\n",
       "      <td>Wednesday</td>\n",
       "      <td>2.000000</td>\n",
       "      <td>1.69897</td>\n",
       "      <td>2.176091</td>\n",
       "      <td>1</td>\n",
       "      <td>0</td>\n",
       "      <td>0</td>\n",
       "      <td>Parramatta</td>\n",
       "    </tr>\n",
       "  </tbody>\n",
       "</table>\n",
       "</div>"
      ],
      "text/plain": [
       "  trip_origin_date month mode_name                ti_region  tap_hour  \\\n",
       "0       2020-01-01   Jan       Bus                Chatswood         0   \n",
       "1       2020-01-01   Jan       Bus           Macquarie Park         0   \n",
       "2       2020-01-01   Jan       Bus  Newcastle and surrounds         0   \n",
       "3       2020-01-01   Jan       Bus             North Sydney         0   \n",
       "5       2020-01-01   Jan       Bus               Parramatta         0   \n",
       "\n",
       "   Adjusted_Tap_Ons  Adjusted_Tap_Offs  Taps_in_total day_of_week  logTap_Ons  \\\n",
       "0                50                 50            100   Wednesday    1.698970   \n",
       "1                50                 50            100   Wednesday    1.698970   \n",
       "2                50                 50            100   Wednesday    1.698970   \n",
       "3               700                100            800   Wednesday    2.845098   \n",
       "5               100                 50            150   Wednesday    2.000000   \n",
       "\n",
       "   logTap_Offs  logTaps_in_total Weekday_reg peak_hour midnight_hour  \\\n",
       "0      1.69897          2.000000           1         0             0   \n",
       "1      1.69897          2.000000           1         0             0   \n",
       "2      1.69897          2.000000           1         0             0   \n",
       "3      2.00000          2.903090           1         0             0   \n",
       "5      1.69897          2.176091           1         0             0   \n",
       "\n",
       "            LGA  \n",
       "0    Willoughby  \n",
       "1          Ryde  \n",
       "2     Newcastle  \n",
       "3  North Sydney  \n",
       "5    Parramatta  "
      ]
     },
     "execution_count": 26,
     "metadata": {},
     "output_type": "execute_result"
    }
   ],
   "source": [
    "# match the regions to its corresponding LGA\n",
    "conditions = [\n",
    "    opal.ti_region=='Chatswood', opal.ti_region=='Macquarie Park',\n",
    "    opal.ti_region=='Newcastle and surrounds', opal.ti_region=='North Sydney',\n",
    "    opal.ti_region=='Wollongong and surrounds', opal.ti_region=='Parramatta',\n",
    "    opal.ti_region=='Strathfield', opal.ti_region=='Sydney CBD'\n",
    "    ]\n",
    "\n",
    "# create a list of the values we want to assign for each condition\n",
    "values = ['Willoughby', 'Ryde',\n",
    "          'Newcastle', 'North Sydney',\n",
    "         'Wollongong', 'Parramatta',\n",
    "         'Strathfield', 'Sydney']\n",
    "\n",
    "# create a new column and use np.select to assign values to it using our lists as arguments\n",
    "opal['LGA'] = np.select(conditions, values)\n",
    "opal.head()"
   ]
  },
  {
   "cell_type": "code",
   "execution_count": 27,
   "id": "fa531013",
   "metadata": {},
   "outputs": [],
   "source": [
    "# extract only data in 2019/20\n",
    "new_demogr = demogr[demogr['WAVE'] == '2019/20']"
   ]
  },
  {
   "cell_type": "code",
   "execution_count": 28,
   "id": "a31a1133",
   "metadata": {},
   "outputs": [],
   "source": [
    "# create pivot table based on the LGA\n",
    "table = pd.pivot_table(new_demogr, values=['AREA_SQ_KM', 'WEIGHTED_POPULATION', 'WEIGHTED_HOUSEHOLDS', 'WEIGHTED_VEHICLES'],\n",
    "                       index=['LGA_NAME'])"
   ]
  },
  {
   "cell_type": "code",
   "execution_count": 29,
   "id": "23ad7936",
   "metadata": {},
   "outputs": [
    {
     "data": {
      "text/html": [
       "<div>\n",
       "<style scoped>\n",
       "    .dataframe tbody tr th:only-of-type {\n",
       "        vertical-align: middle;\n",
       "    }\n",
       "\n",
       "    .dataframe tbody tr th {\n",
       "        vertical-align: top;\n",
       "    }\n",
       "\n",
       "    .dataframe thead th {\n",
       "        text-align: right;\n",
       "    }\n",
       "</style>\n",
       "<table border=\"1\" class=\"dataframe\">\n",
       "  <thead>\n",
       "    <tr style=\"text-align: right;\">\n",
       "      <th></th>\n",
       "      <th>trip_origin_date</th>\n",
       "      <th>month</th>\n",
       "      <th>mode_name</th>\n",
       "      <th>ti_region</th>\n",
       "      <th>tap_hour</th>\n",
       "      <th>Adjusted_Tap_Ons</th>\n",
       "      <th>Adjusted_Tap_Offs</th>\n",
       "      <th>Taps_in_total</th>\n",
       "      <th>day_of_week</th>\n",
       "      <th>logTap_Ons</th>\n",
       "      <th>logTap_Offs</th>\n",
       "      <th>logTaps_in_total</th>\n",
       "      <th>Weekday_reg</th>\n",
       "      <th>peak_hour</th>\n",
       "      <th>midnight_hour</th>\n",
       "      <th>LGA</th>\n",
       "      <th>AREA_SQ_KM</th>\n",
       "      <th>WEIGHTED_HOUSEHOLDS</th>\n",
       "      <th>WEIGHTED_POPULATION</th>\n",
       "      <th>WEIGHTED_VEHICLES</th>\n",
       "    </tr>\n",
       "  </thead>\n",
       "  <tbody>\n",
       "    <tr>\n",
       "      <th>0</th>\n",
       "      <td>2020-01-01</td>\n",
       "      <td>Jan</td>\n",
       "      <td>Bus</td>\n",
       "      <td>Chatswood</td>\n",
       "      <td>0</td>\n",
       "      <td>50</td>\n",
       "      <td>50</td>\n",
       "      <td>100</td>\n",
       "      <td>Wednesday</td>\n",
       "      <td>1.698970</td>\n",
       "      <td>1.69897</td>\n",
       "      <td>2.000000</td>\n",
       "      <td>1</td>\n",
       "      <td>0</td>\n",
       "      <td>0</td>\n",
       "      <td>Willoughby</td>\n",
       "      <td>22</td>\n",
       "      <td>29000</td>\n",
       "      <td>78000</td>\n",
       "      <td>46000</td>\n",
       "    </tr>\n",
       "    <tr>\n",
       "      <th>1</th>\n",
       "      <td>2020-01-01</td>\n",
       "      <td>Jan</td>\n",
       "      <td>Bus</td>\n",
       "      <td>Macquarie Park</td>\n",
       "      <td>0</td>\n",
       "      <td>50</td>\n",
       "      <td>50</td>\n",
       "      <td>100</td>\n",
       "      <td>Wednesday</td>\n",
       "      <td>1.698970</td>\n",
       "      <td>1.69897</td>\n",
       "      <td>2.000000</td>\n",
       "      <td>1</td>\n",
       "      <td>0</td>\n",
       "      <td>0</td>\n",
       "      <td>Ryde</td>\n",
       "      <td>40</td>\n",
       "      <td>47000</td>\n",
       "      <td>125000</td>\n",
       "      <td>76000</td>\n",
       "    </tr>\n",
       "    <tr>\n",
       "      <th>2</th>\n",
       "      <td>2020-01-01</td>\n",
       "      <td>Jan</td>\n",
       "      <td>Bus</td>\n",
       "      <td>Newcastle and surrounds</td>\n",
       "      <td>0</td>\n",
       "      <td>50</td>\n",
       "      <td>50</td>\n",
       "      <td>100</td>\n",
       "      <td>Wednesday</td>\n",
       "      <td>1.698970</td>\n",
       "      <td>1.69897</td>\n",
       "      <td>2.000000</td>\n",
       "      <td>1</td>\n",
       "      <td>0</td>\n",
       "      <td>0</td>\n",
       "      <td>Newcastle</td>\n",
       "      <td>187</td>\n",
       "      <td>66000</td>\n",
       "      <td>160000</td>\n",
       "      <td>113000</td>\n",
       "    </tr>\n",
       "    <tr>\n",
       "      <th>3</th>\n",
       "      <td>2020-01-01</td>\n",
       "      <td>Jan</td>\n",
       "      <td>Bus</td>\n",
       "      <td>North Sydney</td>\n",
       "      <td>0</td>\n",
       "      <td>700</td>\n",
       "      <td>100</td>\n",
       "      <td>800</td>\n",
       "      <td>Wednesday</td>\n",
       "      <td>2.845098</td>\n",
       "      <td>2.00000</td>\n",
       "      <td>2.903090</td>\n",
       "      <td>1</td>\n",
       "      <td>0</td>\n",
       "      <td>0</td>\n",
       "      <td>North Sydney</td>\n",
       "      <td>10</td>\n",
       "      <td>36000</td>\n",
       "      <td>73000</td>\n",
       "      <td>42000</td>\n",
       "    </tr>\n",
       "    <tr>\n",
       "      <th>5</th>\n",
       "      <td>2020-01-01</td>\n",
       "      <td>Jan</td>\n",
       "      <td>Bus</td>\n",
       "      <td>Parramatta</td>\n",
       "      <td>0</td>\n",
       "      <td>100</td>\n",
       "      <td>50</td>\n",
       "      <td>150</td>\n",
       "      <td>Wednesday</td>\n",
       "      <td>2.000000</td>\n",
       "      <td>1.69897</td>\n",
       "      <td>2.176091</td>\n",
       "      <td>1</td>\n",
       "      <td>0</td>\n",
       "      <td>0</td>\n",
       "      <td>Parramatta</td>\n",
       "      <td>84</td>\n",
       "      <td>88000</td>\n",
       "      <td>245000</td>\n",
       "      <td>144000</td>\n",
       "    </tr>\n",
       "  </tbody>\n",
       "</table>\n",
       "</div>"
      ],
      "text/plain": [
       "  trip_origin_date month mode_name                ti_region  tap_hour  \\\n",
       "0       2020-01-01   Jan       Bus                Chatswood         0   \n",
       "1       2020-01-01   Jan       Bus           Macquarie Park         0   \n",
       "2       2020-01-01   Jan       Bus  Newcastle and surrounds         0   \n",
       "3       2020-01-01   Jan       Bus             North Sydney         0   \n",
       "5       2020-01-01   Jan       Bus               Parramatta         0   \n",
       "\n",
       "   Adjusted_Tap_Ons  Adjusted_Tap_Offs  Taps_in_total day_of_week  logTap_Ons  \\\n",
       "0                50                 50            100   Wednesday    1.698970   \n",
       "1                50                 50            100   Wednesday    1.698970   \n",
       "2                50                 50            100   Wednesday    1.698970   \n",
       "3               700                100            800   Wednesday    2.845098   \n",
       "5               100                 50            150   Wednesday    2.000000   \n",
       "\n",
       "   logTap_Offs  logTaps_in_total Weekday_reg peak_hour midnight_hour  \\\n",
       "0      1.69897          2.000000           1         0             0   \n",
       "1      1.69897          2.000000           1         0             0   \n",
       "2      1.69897          2.000000           1         0             0   \n",
       "3      2.00000          2.903090           1         0             0   \n",
       "5      1.69897          2.176091           1         0             0   \n",
       "\n",
       "            LGA  AREA_SQ_KM  WEIGHTED_HOUSEHOLDS  WEIGHTED_POPULATION  \\\n",
       "0    Willoughby          22                29000                78000   \n",
       "1          Ryde          40                47000               125000   \n",
       "2     Newcastle         187                66000               160000   \n",
       "3  North Sydney          10                36000                73000   \n",
       "5    Parramatta          84                88000               245000   \n",
       "\n",
       "   WEIGHTED_VEHICLES  \n",
       "0              46000  \n",
       "1              76000  \n",
       "2             113000  \n",
       "3              42000  \n",
       "5             144000  "
      ]
     },
     "execution_count": 29,
     "metadata": {},
     "output_type": "execute_result"
    }
   ],
   "source": [
    "# combine two datasets according to the LGA name\n",
    "opal_demogr = opal.join(table, on='LGA')\n",
    "opal_demogr.head()"
   ]
  },
  {
   "cell_type": "markdown",
   "id": "e1b4bb02",
   "metadata": {},
   "source": [
    "### Combine Data with Personal Income"
   ]
  },
  {
   "cell_type": "code",
   "execution_count": 30,
   "id": "6f84af10",
   "metadata": {},
   "outputs": [
    {
     "data": {
      "text/html": [
       "<div>\n",
       "<style scoped>\n",
       "    .dataframe tbody tr th:only-of-type {\n",
       "        vertical-align: middle;\n",
       "    }\n",
       "\n",
       "    .dataframe tbody tr th {\n",
       "        vertical-align: top;\n",
       "    }\n",
       "\n",
       "    .dataframe thead th {\n",
       "        text-align: right;\n",
       "    }\n",
       "</style>\n",
       "<table border=\"1\" class=\"dataframe\">\n",
       "  <thead>\n",
       "    <tr style=\"text-align: right;\">\n",
       "      <th></th>\n",
       "      <th>Unnamed: 1</th>\n",
       "      <th>Unnamed: 8</th>\n",
       "      <th>Unnamed: 15</th>\n",
       "      <th>Unnamed: 22</th>\n",
       "      <th>Unnamed: 29</th>\n",
       "      <th>Unnamed: 36</th>\n",
       "    </tr>\n",
       "  </thead>\n",
       "  <tbody>\n",
       "    <tr>\n",
       "      <th>0</th>\n",
       "      <td>LGA NAME</td>\n",
       "      <td>2017-18</td>\n",
       "      <td>2017-18</td>\n",
       "      <td>2017-18</td>\n",
       "      <td>2017-18</td>\n",
       "      <td>2017-18</td>\n",
       "    </tr>\n",
       "    <tr>\n",
       "      <th>1</th>\n",
       "      <td>NaN</td>\n",
       "      <td>14069082</td>\n",
       "      <td>42</td>\n",
       "      <td>903888674402</td>\n",
       "      <td>49805</td>\n",
       "      <td>64246</td>\n",
       "    </tr>\n",
       "    <tr>\n",
       "      <th>2</th>\n",
       "      <td>NaN</td>\n",
       "      <td>4466941</td>\n",
       "      <td>42</td>\n",
       "      <td>300176988652</td>\n",
       "      <td>50153</td>\n",
       "      <td>67200</td>\n",
       "    </tr>\n",
       "    <tr>\n",
       "      <th>3</th>\n",
       "      <td>Albury</td>\n",
       "      <td>29898</td>\n",
       "      <td>43</td>\n",
       "      <td>1686539002</td>\n",
       "      <td>47732</td>\n",
       "      <td>56410</td>\n",
       "    </tr>\n",
       "    <tr>\n",
       "      <th>4</th>\n",
       "      <td>Armidale Regional</td>\n",
       "      <td>15913</td>\n",
       "      <td>44</td>\n",
       "      <td>828631202</td>\n",
       "      <td>42220</td>\n",
       "      <td>52073</td>\n",
       "    </tr>\n",
       "  </tbody>\n",
       "</table>\n",
       "</div>"
      ],
      "text/plain": [
       "          Unnamed: 1 Unnamed: 8 Unnamed: 15   Unnamed: 22 Unnamed: 29  \\\n",
       "0           LGA NAME    2017-18     2017-18       2017-18     2017-18   \n",
       "1                NaN   14069082          42  903888674402       49805   \n",
       "2                NaN    4466941          42  300176988652       50153   \n",
       "3             Albury      29898          43    1686539002       47732   \n",
       "4  Armidale Regional      15913          44     828631202       42220   \n",
       "\n",
       "  Unnamed: 36  \n",
       "0     2017-18  \n",
       "1       64246  \n",
       "2       67200  \n",
       "3       56410  \n",
       "4       52073  "
      ]
     },
     "execution_count": 30,
     "metadata": {},
     "output_type": "execute_result"
    }
   ],
   "source": [
    "xls = pd.ExcelFile('data/Personal income in Australia.xls')\n",
    "income = pd.read_excel(xls, sheet_name='Table 1.5', usecols='B,I,P,W,AD,AK', skiprows=5)\n",
    "income.head()"
   ]
  },
  {
   "cell_type": "code",
   "execution_count": 31,
   "id": "53ddb729",
   "metadata": {},
   "outputs": [
    {
     "data": {
      "text/html": [
       "<div>\n",
       "<style scoped>\n",
       "    .dataframe tbody tr th:only-of-type {\n",
       "        vertical-align: middle;\n",
       "    }\n",
       "\n",
       "    .dataframe tbody tr th {\n",
       "        vertical-align: top;\n",
       "    }\n",
       "\n",
       "    .dataframe thead th {\n",
       "        text-align: right;\n",
       "    }\n",
       "</style>\n",
       "<table border=\"1\" class=\"dataframe\">\n",
       "  <thead>\n",
       "    <tr style=\"text-align: right;\">\n",
       "      <th></th>\n",
       "      <th>LGA NAME</th>\n",
       "      <th>Earners (persons)</th>\n",
       "      <th>Median age of earners (years)</th>\n",
       "      <th>Sum ($)</th>\n",
       "      <th>Median ($)</th>\n",
       "      <th>Mean ($)</th>\n",
       "    </tr>\n",
       "  </thead>\n",
       "  <tbody>\n",
       "    <tr>\n",
       "      <th>0</th>\n",
       "      <td>LGA NAME</td>\n",
       "      <td>2017-18</td>\n",
       "      <td>2017-18</td>\n",
       "      <td>2017-18</td>\n",
       "      <td>2017-18</td>\n",
       "      <td>2017-18</td>\n",
       "    </tr>\n",
       "    <tr>\n",
       "      <th>1</th>\n",
       "      <td>NaN</td>\n",
       "      <td>14069082</td>\n",
       "      <td>42</td>\n",
       "      <td>903888674402</td>\n",
       "      <td>49805</td>\n",
       "      <td>64246</td>\n",
       "    </tr>\n",
       "    <tr>\n",
       "      <th>2</th>\n",
       "      <td>NaN</td>\n",
       "      <td>4466941</td>\n",
       "      <td>42</td>\n",
       "      <td>300176988652</td>\n",
       "      <td>50153</td>\n",
       "      <td>67200</td>\n",
       "    </tr>\n",
       "    <tr>\n",
       "      <th>3</th>\n",
       "      <td>Albury</td>\n",
       "      <td>29898</td>\n",
       "      <td>43</td>\n",
       "      <td>1686539002</td>\n",
       "      <td>47732</td>\n",
       "      <td>56410</td>\n",
       "    </tr>\n",
       "    <tr>\n",
       "      <th>4</th>\n",
       "      <td>Armidale Regional</td>\n",
       "      <td>15913</td>\n",
       "      <td>44</td>\n",
       "      <td>828631202</td>\n",
       "      <td>42220</td>\n",
       "      <td>52073</td>\n",
       "    </tr>\n",
       "  </tbody>\n",
       "</table>\n",
       "</div>"
      ],
      "text/plain": [
       "            LGA NAME Earners (persons) Median age of earners (years)  \\\n",
       "0           LGA NAME           2017-18                       2017-18   \n",
       "1                NaN          14069082                            42   \n",
       "2                NaN           4466941                            42   \n",
       "3             Albury             29898                            43   \n",
       "4  Armidale Regional             15913                            44   \n",
       "\n",
       "        Sum ($) Median ($) Mean ($)  \n",
       "0       2017-18    2017-18  2017-18  \n",
       "1  903888674402      49805    64246  \n",
       "2  300176988652      50153    67200  \n",
       "3    1686539002      47732    56410  \n",
       "4     828631202      42220    52073  "
      ]
     },
     "execution_count": 31,
     "metadata": {},
     "output_type": "execute_result"
    }
   ],
   "source": [
    "income = income.rename(columns={'Unnamed: 1':'LGA NAME', 'Unnamed: 8':'Earners (persons)', \n",
    "                                'Unnamed: 15':'Median age of earners (years)', 'Unnamed: 22':'Sum ($)',\n",
    "                               'Unnamed: 29':'Median ($)', 'Unnamed: 36':'Mean ($)'})\n",
    "\n",
    "income.head()"
   ]
  },
  {
   "cell_type": "code",
   "execution_count": 32,
   "id": "895d09b8",
   "metadata": {},
   "outputs": [],
   "source": [
    "income.set_index('LGA NAME', inplace=True)"
   ]
  },
  {
   "cell_type": "code",
   "execution_count": 33,
   "id": "0d199851",
   "metadata": {},
   "outputs": [],
   "source": [
    "# combine all datasets into one\n",
    "opal_final = opal_demogr.join(income, on='LGA')"
   ]
  },
  {
   "cell_type": "code",
   "execution_count": 34,
   "id": "222cf03a",
   "metadata": {},
   "outputs": [],
   "source": [
    "# rename column names to run codes\n",
    "opal_final = opal_final.rename(columns={'Earners (persons)': 'Earners', \n",
    "                                        'Median age of earners (years)': 'Earners_Age',\n",
    "                                        'Sum ($)': 'Sum_Salary',\n",
    "                                        'Median ($)': 'Median_Salary',\n",
    "                                        'Mean ($)': 'Mean_Salary'})"
   ]
  },
  {
   "cell_type": "code",
   "execution_count": 35,
   "id": "08ade7b1",
   "metadata": {},
   "outputs": [],
   "source": [
    "## convert all the data type into \"float\"\n",
    "opal_final['Weekday_reg'] = pd.to_numeric(opal_final['Weekday_reg'],errors = 'coerce')\n",
    "opal_final['peak_hour'] = pd.to_numeric(opal_final['peak_hour'],errors = 'coerce')\n",
    "opal_final['midnight_hour'] = pd.to_numeric(opal_final['midnight_hour'],errors = 'coerce')\n",
    "opal_final['Earners'] = pd.to_numeric(opal_final['Earners'],errors = 'coerce')\n",
    "opal_final['Earners_Age'] = pd.to_numeric(opal_final['Earners_Age'],errors = 'coerce')\n",
    "opal_final['Sum_Salary'] = pd.to_numeric(opal_final['Sum_Salary'],errors = 'coerce')\n",
    "opal_final['Median_Salary'] = pd.to_numeric(opal_final['Median_Salary'],errors = 'coerce')\n",
    "opal_final['Mean_Salary'] = pd.to_numeric(opal_final['Mean_Salary'],errors = 'coerce')"
   ]
  },
  {
   "cell_type": "code",
   "execution_count": 36,
   "id": "1d81156c",
   "metadata": {},
   "outputs": [
    {
     "data": {
      "text/html": [
       "<div>\n",
       "<style scoped>\n",
       "    .dataframe tbody tr th:only-of-type {\n",
       "        vertical-align: middle;\n",
       "    }\n",
       "\n",
       "    .dataframe tbody tr th {\n",
       "        vertical-align: top;\n",
       "    }\n",
       "\n",
       "    .dataframe thead th {\n",
       "        text-align: right;\n",
       "    }\n",
       "</style>\n",
       "<table border=\"1\" class=\"dataframe\">\n",
       "  <thead>\n",
       "    <tr style=\"text-align: right;\">\n",
       "      <th></th>\n",
       "      <th>trip_origin_date</th>\n",
       "      <th>month</th>\n",
       "      <th>mode_name</th>\n",
       "      <th>ti_region</th>\n",
       "      <th>tap_hour</th>\n",
       "      <th>Adjusted_Tap_Ons</th>\n",
       "      <th>Adjusted_Tap_Offs</th>\n",
       "      <th>Taps_in_total</th>\n",
       "      <th>day_of_week</th>\n",
       "      <th>logTap_Ons</th>\n",
       "      <th>...</th>\n",
       "      <th>LGA</th>\n",
       "      <th>AREA_SQ_KM</th>\n",
       "      <th>WEIGHTED_HOUSEHOLDS</th>\n",
       "      <th>WEIGHTED_POPULATION</th>\n",
       "      <th>WEIGHTED_VEHICLES</th>\n",
       "      <th>Earners</th>\n",
       "      <th>Earners_Age</th>\n",
       "      <th>Sum_Salary</th>\n",
       "      <th>Median_Salary</th>\n",
       "      <th>Mean_Salary</th>\n",
       "    </tr>\n",
       "  </thead>\n",
       "  <tbody>\n",
       "    <tr>\n",
       "      <th>0</th>\n",
       "      <td>2020-01-01</td>\n",
       "      <td>Jan</td>\n",
       "      <td>Bus</td>\n",
       "      <td>Chatswood</td>\n",
       "      <td>0</td>\n",
       "      <td>50</td>\n",
       "      <td>50</td>\n",
       "      <td>100</td>\n",
       "      <td>Wednesday</td>\n",
       "      <td>1.698970</td>\n",
       "      <td>...</td>\n",
       "      <td>Willoughby</td>\n",
       "      <td>22</td>\n",
       "      <td>29000</td>\n",
       "      <td>78000</td>\n",
       "      <td>46000</td>\n",
       "      <td>50185</td>\n",
       "      <td>43</td>\n",
       "      <td>5135949986</td>\n",
       "      <td>60792</td>\n",
       "      <td>102340</td>\n",
       "    </tr>\n",
       "    <tr>\n",
       "      <th>1</th>\n",
       "      <td>2020-01-01</td>\n",
       "      <td>Jan</td>\n",
       "      <td>Bus</td>\n",
       "      <td>Macquarie Park</td>\n",
       "      <td>0</td>\n",
       "      <td>50</td>\n",
       "      <td>50</td>\n",
       "      <td>100</td>\n",
       "      <td>Wednesday</td>\n",
       "      <td>1.698970</td>\n",
       "      <td>...</td>\n",
       "      <td>Ryde</td>\n",
       "      <td>40</td>\n",
       "      <td>47000</td>\n",
       "      <td>125000</td>\n",
       "      <td>76000</td>\n",
       "      <td>76127</td>\n",
       "      <td>39</td>\n",
       "      <td>5229754036</td>\n",
       "      <td>52784</td>\n",
       "      <td>68698</td>\n",
       "    </tr>\n",
       "    <tr>\n",
       "      <th>2</th>\n",
       "      <td>2020-01-01</td>\n",
       "      <td>Jan</td>\n",
       "      <td>Bus</td>\n",
       "      <td>Newcastle and surrounds</td>\n",
       "      <td>0</td>\n",
       "      <td>50</td>\n",
       "      <td>50</td>\n",
       "      <td>100</td>\n",
       "      <td>Wednesday</td>\n",
       "      <td>1.698970</td>\n",
       "      <td>...</td>\n",
       "      <td>Newcastle</td>\n",
       "      <td>187</td>\n",
       "      <td>66000</td>\n",
       "      <td>160000</td>\n",
       "      <td>113000</td>\n",
       "      <td>91558</td>\n",
       "      <td>41</td>\n",
       "      <td>6058217032</td>\n",
       "      <td>52649</td>\n",
       "      <td>66168</td>\n",
       "    </tr>\n",
       "    <tr>\n",
       "      <th>3</th>\n",
       "      <td>2020-01-01</td>\n",
       "      <td>Jan</td>\n",
       "      <td>Bus</td>\n",
       "      <td>North Sydney</td>\n",
       "      <td>0</td>\n",
       "      <td>700</td>\n",
       "      <td>100</td>\n",
       "      <td>800</td>\n",
       "      <td>Wednesday</td>\n",
       "      <td>2.845098</td>\n",
       "      <td>...</td>\n",
       "      <td>North Sydney</td>\n",
       "      <td>10</td>\n",
       "      <td>36000</td>\n",
       "      <td>73000</td>\n",
       "      <td>42000</td>\n",
       "      <td>51615</td>\n",
       "      <td>40</td>\n",
       "      <td>5898586716</td>\n",
       "      <td>76063</td>\n",
       "      <td>114280</td>\n",
       "    </tr>\n",
       "    <tr>\n",
       "      <th>5</th>\n",
       "      <td>2020-01-01</td>\n",
       "      <td>Jan</td>\n",
       "      <td>Bus</td>\n",
       "      <td>Parramatta</td>\n",
       "      <td>0</td>\n",
       "      <td>100</td>\n",
       "      <td>50</td>\n",
       "      <td>150</td>\n",
       "      <td>Wednesday</td>\n",
       "      <td>2.000000</td>\n",
       "      <td>...</td>\n",
       "      <td>Parramatta</td>\n",
       "      <td>84</td>\n",
       "      <td>88000</td>\n",
       "      <td>245000</td>\n",
       "      <td>144000</td>\n",
       "      <td>146880</td>\n",
       "      <td>38</td>\n",
       "      <td>9127438492</td>\n",
       "      <td>50838</td>\n",
       "      <td>62142</td>\n",
       "    </tr>\n",
       "  </tbody>\n",
       "</table>\n",
       "<p>5 rows × 25 columns</p>\n",
       "</div>"
      ],
      "text/plain": [
       "  trip_origin_date month mode_name                ti_region  tap_hour  \\\n",
       "0       2020-01-01   Jan       Bus                Chatswood         0   \n",
       "1       2020-01-01   Jan       Bus           Macquarie Park         0   \n",
       "2       2020-01-01   Jan       Bus  Newcastle and surrounds         0   \n",
       "3       2020-01-01   Jan       Bus             North Sydney         0   \n",
       "5       2020-01-01   Jan       Bus               Parramatta         0   \n",
       "\n",
       "   Adjusted_Tap_Ons  Adjusted_Tap_Offs  Taps_in_total day_of_week  logTap_Ons  \\\n",
       "0                50                 50            100   Wednesday    1.698970   \n",
       "1                50                 50            100   Wednesday    1.698970   \n",
       "2                50                 50            100   Wednesday    1.698970   \n",
       "3               700                100            800   Wednesday    2.845098   \n",
       "5               100                 50            150   Wednesday    2.000000   \n",
       "\n",
       "   ...           LGA  AREA_SQ_KM  WEIGHTED_HOUSEHOLDS  WEIGHTED_POPULATION  \\\n",
       "0  ...    Willoughby          22                29000                78000   \n",
       "1  ...          Ryde          40                47000               125000   \n",
       "2  ...     Newcastle         187                66000               160000   \n",
       "3  ...  North Sydney          10                36000                73000   \n",
       "5  ...    Parramatta          84                88000               245000   \n",
       "\n",
       "   WEIGHTED_VEHICLES Earners  Earners_Age  Sum_Salary  Median_Salary  \\\n",
       "0              46000   50185           43  5135949986          60792   \n",
       "1              76000   76127           39  5229754036          52784   \n",
       "2             113000   91558           41  6058217032          52649   \n",
       "3              42000   51615           40  5898586716          76063   \n",
       "5             144000  146880           38  9127438492          50838   \n",
       "\n",
       "   Mean_Salary  \n",
       "0       102340  \n",
       "1        68698  \n",
       "2        66168  \n",
       "3       114280  \n",
       "5        62142  \n",
       "\n",
       "[5 rows x 25 columns]"
      ]
     },
     "execution_count": 36,
     "metadata": {},
     "output_type": "execute_result"
    }
   ],
   "source": [
    "opal_final.head()"
   ]
  },
  {
   "cell_type": "markdown",
   "id": "5963decf",
   "metadata": {},
   "source": [
    "## Analysing Travel Patterns with Demographic Variables\n",
    "### K- means Clustering\n",
    "\n",
    "We would start with clustering the data on travel pattern combined with demographics features, to understand the big picture of the features of opal users, and ideally identify some demographic feature which may affect the opal volume."
   ]
  },
  {
   "cell_type": "code",
   "execution_count": 37,
   "id": "2db5c766",
   "metadata": {},
   "outputs": [],
   "source": [
    "opal_cluster = opal_final.drop(columns = ['trip_origin_date', 'month', 'mode_name', 'ti_region', 'day_of_week', 'LGA'])"
   ]
  },
  {
   "cell_type": "code",
   "execution_count": 38,
   "id": "d04b1f21",
   "metadata": {},
   "outputs": [],
   "source": [
    "distortions = []\n",
    "K = range(1,20)\n",
    "for k in K:\n",
    "    kmeanModel = KMeans(n_clusters=k)\n",
    "    kmeanModel.fit(opal_cluster)\n",
    "    distortions.append(kmeanModel.inertia_)"
   ]
  },
  {
   "cell_type": "code",
   "execution_count": 39,
   "id": "1d9c2620",
   "metadata": {},
   "outputs": [
    {
     "data": {
      "image/png": "[encoded data removed]",
      "text/plain": [
       "<Figure size 432x288 with 1 Axes>"
      ]
     },
     "metadata": {
      "needs_background": "light"
     },
     "output_type": "display_data"
    }
   ],
   "source": [
    "# establish Elbow Method to confirm the best k to start with\n",
    "plt.plot(K, distortions, 'bx-')\n",
    "plt.xlabel('k')\n",
    "plt.ylabel('Distortion')\n",
    "plt.title('The Elbow Method showing the Optimal k', fontsize=14, fontweight='bold',loc = 'center', y=1.05)\n",
    "plt.show()"
   ]
  },
  {
   "cell_type": "code",
   "execution_count": 40,
   "id": "03eaca9d",
   "metadata": {},
   "outputs": [],
   "source": [
    "km = KMeans(n_clusters = 4)\n",
    "km.fit(opal_cluster)\n",
    "opal_cluster['kcluster'] = km.predict(opal_cluster)"
   ]
  },
  {
   "cell_type": "code",
   "execution_count": 41,
   "id": "cb22d971",
   "metadata": {},
   "outputs": [
    {
     "data": {
      "text/html": [
       "<div>\n",
       "<style scoped>\n",
       "    .dataframe tbody tr th:only-of-type {\n",
       "        vertical-align: middle;\n",
       "    }\n",
       "\n",
       "    .dataframe tbody tr th {\n",
       "        vertical-align: top;\n",
       "    }\n",
       "\n",
       "    .dataframe thead th {\n",
       "        text-align: right;\n",
       "    }\n",
       "</style>\n",
       "<table border=\"1\" class=\"dataframe\">\n",
       "  <thead>\n",
       "    <tr style=\"text-align: right;\">\n",
       "      <th></th>\n",
       "      <th>tap_hour</th>\n",
       "      <th>Adjusted_Tap_Ons</th>\n",
       "      <th>Adjusted_Tap_Offs</th>\n",
       "      <th>Taps_in_total</th>\n",
       "      <th>logTap_Ons</th>\n",
       "      <th>logTap_Offs</th>\n",
       "      <th>logTaps_in_total</th>\n",
       "      <th>Weekday_reg</th>\n",
       "      <th>peak_hour</th>\n",
       "      <th>midnight_hour</th>\n",
       "      <th>AREA_SQ_KM</th>\n",
       "      <th>WEIGHTED_HOUSEHOLDS</th>\n",
       "      <th>WEIGHTED_POPULATION</th>\n",
       "      <th>WEIGHTED_VEHICLES</th>\n",
       "      <th>Earners</th>\n",
       "      <th>Earners_Age</th>\n",
       "      <th>Sum_Salary</th>\n",
       "      <th>Median_Salary</th>\n",
       "      <th>Mean_Salary</th>\n",
       "    </tr>\n",
       "    <tr>\n",
       "      <th>kcluster</th>\n",
       "      <th></th>\n",
       "      <th></th>\n",
       "      <th></th>\n",
       "      <th></th>\n",
       "      <th></th>\n",
       "      <th></th>\n",
       "      <th></th>\n",
       "      <th></th>\n",
       "      <th></th>\n",
       "      <th></th>\n",
       "      <th></th>\n",
       "      <th></th>\n",
       "      <th></th>\n",
       "      <th></th>\n",
       "      <th></th>\n",
       "      <th></th>\n",
       "      <th></th>\n",
       "      <th></th>\n",
       "      <th></th>\n",
       "    </tr>\n",
       "  </thead>\n",
       "  <tbody>\n",
       "    <tr>\n",
       "      <th>0</th>\n",
       "      <td>12.49</td>\n",
       "      <td>240.77</td>\n",
       "      <td>238.05</td>\n",
       "      <td>478.81</td>\n",
       "      <td>2.08</td>\n",
       "      <td>2.07</td>\n",
       "      <td>2.39</td>\n",
       "      <td>0.72</td>\n",
       "      <td>0.19</td>\n",
       "      <td>0.13</td>\n",
       "      <td>170.72</td>\n",
       "      <td>52481.26</td>\n",
       "      <td>128722.23</td>\n",
       "      <td>83417.85</td>\n",
       "      <td>76451.11</td>\n",
       "      <td>41.08</td>\n",
       "      <td>5.896557e+09</td>\n",
       "      <td>59023.24</td>\n",
       "      <td>83012.97</td>\n",
       "    </tr>\n",
       "    <tr>\n",
       "      <th>1</th>\n",
       "      <td>12.02</td>\n",
       "      <td>2489.88</td>\n",
       "      <td>2476.07</td>\n",
       "      <td>4965.95</td>\n",
       "      <td>2.89</td>\n",
       "      <td>2.85</td>\n",
       "      <td>3.19</td>\n",
       "      <td>0.72</td>\n",
       "      <td>0.18</td>\n",
       "      <td>0.16</td>\n",
       "      <td>27.00</td>\n",
       "      <td>97000.00</td>\n",
       "      <td>210000.00</td>\n",
       "      <td>87000.00</td>\n",
       "      <td>157214.00</td>\n",
       "      <td>33.00</td>\n",
       "      <td>1.285496e+10</td>\n",
       "      <td>54628.00</td>\n",
       "      <td>81767.00</td>\n",
       "    </tr>\n",
       "    <tr>\n",
       "      <th>2</th>\n",
       "      <td>11.58</td>\n",
       "      <td>379.50</td>\n",
       "      <td>360.97</td>\n",
       "      <td>740.47</td>\n",
       "      <td>2.34</td>\n",
       "      <td>2.30</td>\n",
       "      <td>2.63</td>\n",
       "      <td>0.72</td>\n",
       "      <td>0.17</td>\n",
       "      <td>0.20</td>\n",
       "      <td>14.00</td>\n",
       "      <td>16000.00</td>\n",
       "      <td>46000.00</td>\n",
       "      <td>23000.00</td>\n",
       "      <td>28276.00</td>\n",
       "      <td>35.00</td>\n",
       "      <td>1.859895e+09</td>\n",
       "      <td>46484.00</td>\n",
       "      <td>65776.00</td>\n",
       "    </tr>\n",
       "    <tr>\n",
       "      <th>3</th>\n",
       "      <td>11.84</td>\n",
       "      <td>698.94</td>\n",
       "      <td>682.88</td>\n",
       "      <td>1381.82</td>\n",
       "      <td>2.50</td>\n",
       "      <td>2.49</td>\n",
       "      <td>2.80</td>\n",
       "      <td>0.71</td>\n",
       "      <td>0.19</td>\n",
       "      <td>0.17</td>\n",
       "      <td>84.00</td>\n",
       "      <td>88000.00</td>\n",
       "      <td>245000.00</td>\n",
       "      <td>144000.00</td>\n",
       "      <td>146880.00</td>\n",
       "      <td>38.00</td>\n",
       "      <td>9.127438e+09</td>\n",
       "      <td>50838.00</td>\n",
       "      <td>62142.00</td>\n",
       "    </tr>\n",
       "  </tbody>\n",
       "</table>\n",
       "</div>"
      ],
      "text/plain": [
       "          tap_hour  Adjusted_Tap_Ons  Adjusted_Tap_Offs  Taps_in_total  \\\n",
       "kcluster                                                                 \n",
       "0            12.49            240.77             238.05         478.81   \n",
       "1            12.02           2489.88            2476.07        4965.95   \n",
       "2            11.58            379.50             360.97         740.47   \n",
       "3            11.84            698.94             682.88        1381.82   \n",
       "\n",
       "          logTap_Ons  logTap_Offs  logTaps_in_total  Weekday_reg  peak_hour  \\\n",
       "kcluster                                                                      \n",
       "0               2.08         2.07              2.39         0.72       0.19   \n",
       "1               2.89         2.85              3.19         0.72       0.18   \n",
       "2               2.34         2.30              2.63         0.72       0.17   \n",
       "3               2.50         2.49              2.80         0.71       0.19   \n",
       "\n",
       "          midnight_hour  AREA_SQ_KM  WEIGHTED_HOUSEHOLDS  WEIGHTED_POPULATION  \\\n",
       "kcluster                                                                        \n",
       "0                  0.13      170.72             52481.26            128722.23   \n",
       "1                  0.16       27.00             97000.00            210000.00   \n",
       "2                  0.20       14.00             16000.00             46000.00   \n",
       "3                  0.17       84.00             88000.00            245000.00   \n",
       "\n",
       "          WEIGHTED_VEHICLES    Earners  Earners_Age    Sum_Salary  \\\n",
       "kcluster                                                            \n",
       "0                  83417.85   76451.11        41.08  5.896557e+09   \n",
       "1                  87000.00  157214.00        33.00  1.285496e+10   \n",
       "2                  23000.00   28276.00        35.00  1.859895e+09   \n",
       "3                 144000.00  146880.00        38.00  9.127438e+09   \n",
       "\n",
       "          Median_Salary  Mean_Salary  \n",
       "kcluster                              \n",
       "0              59023.24     83012.97  \n",
       "1              54628.00     81767.00  \n",
       "2              46484.00     65776.00  \n",
       "3              50838.00     62142.00  "
      ]
     },
     "execution_count": 41,
     "metadata": {},
     "output_type": "execute_result"
    }
   ],
   "source": [
    "kcluster_mean = opal_cluster.groupby(['kcluster']).agg('mean').round(2)\n",
    "kcluster_mean"
   ]
  },
  {
   "cell_type": "markdown",
   "id": "e4f2c5b7",
   "metadata": {},
   "source": [
    "K-means clustering indicated to divided patterns into 4 groups, where there were distinctive in terms of demographics, \n",
    "- there does not indicate much difference from tap hour.\n",
    "- **Group 0**: with lowest tap volume,largest regional area, highest earner age, highest number of earners and highest mean salary\n",
    "- **Group 1**: with highest tap volume , second smallest regional area, lowest earner age, second highest in mean salary\n",
    "- **Group 2**: with second lowest tap volume ,smallest regional area, second lowest earner age, second lowest in number of earners and lowest mean salary\n",
    "- **Group 3**: with second highest tap volume, second largest regional area, second highest earner age, lowest mean salary\n",
    "\n",
    "We will proceed to explore any relationships in regression model."
   ]
  },
  {
   "cell_type": "code",
   "execution_count": 42,
   "id": "3b6e2a1b",
   "metadata": {},
   "outputs": [
    {
     "data": {
      "text/plain": [
       "Text(0.5, 1.05, 'Scatter Plot of tap on and tap off values by k-means clusters')"
      ]
     },
     "execution_count": 42,
     "metadata": {},
     "output_type": "execute_result"
    },
    {
     "data": {
      "image/png": "[encoded data removed]",
      "text/plain": [
       "<Figure size 407.875x360 with 1 Axes>"
      ]
     },
     "metadata": {
      "needs_background": "light"
     },
     "output_type": "display_data"
    }
   ],
   "source": [
    "# visualisation by k-means categories\n",
    "# plot the diagram\n",
    "sns.lmplot(x='logTap_Ons', y='logTap_Offs', data=opal_cluster, fit_reg=False, hue = 'kcluster')\n",
    "plt.title(\"Scatter Plot of tap on and tap off values by k-means clusters\", fontsize=14, fontweight='bold',loc = 'center', y=1.05)"
   ]
  },
  {
   "cell_type": "markdown",
   "id": "88982737",
   "metadata": {},
   "source": [
    "### Get Dummies for transport mode"
   ]
  },
  {
   "cell_type": "code",
   "execution_count": 43,
   "id": "1ccd35be",
   "metadata": {},
   "outputs": [],
   "source": [
    "cat_vars=['mode_name']\n",
    "for var in cat_vars:\n",
    "    cat_list='var'+'_'+var\n",
    "    cat_list = pd.get_dummies(opal_final[var], prefix=var)\n",
    "    opal_final_1 = opal_final.join(cat_list)\n",
    "    opal_final = opal_final_1"
   ]
  },
  {
   "cell_type": "markdown",
   "id": "c80f7ba6",
   "metadata": {},
   "source": [
    "### Regression Analysis"
   ]
  },
  {
   "cell_type": "code",
   "execution_count": 44,
   "id": "5b42a68d",
   "metadata": {},
   "outputs": [],
   "source": [
    "## drop irrelevant data before transformation\n",
    "\n",
    "opal_final = opal_final.drop([\"Taps_in_total\",\"Adjusted_Tap_Ons\",\"Adjusted_Tap_Offs\", \"logTap_Ons\", \"logTap_Offs\"], axis = 1)\n"
   ]
  },
  {
   "cell_type": "code",
   "execution_count": 45,
   "id": "200dcd6c",
   "metadata": {},
   "outputs": [
    {
     "data": {
      "text/plain": [
       "(array([ 0.5,  1.5,  2.5,  3.5,  4.5,  5.5,  6.5,  7.5,  8.5,  9.5, 10.5,\n",
       "        11.5, 12.5, 13.5, 14.5, 15.5, 16.5, 17.5]),\n",
       " [Text(0.5, 0, 'tap_hour'),\n",
       "  Text(1.5, 0, 'logTaps_in_total'),\n",
       "  Text(2.5, 0, 'Weekday_reg'),\n",
       "  Text(3.5, 0, 'peak_hour'),\n",
       "  Text(4.5, 0, 'midnight_hour'),\n",
       "  Text(5.5, 0, 'AREA_SQ_KM'),\n",
       "  Text(6.5, 0, 'WEIGHTED_HOUSEHOLDS'),\n",
       "  Text(7.5, 0, 'WEIGHTED_POPULATION'),\n",
       "  Text(8.5, 0, 'WEIGHTED_VEHICLES'),\n",
       "  Text(9.5, 0, 'Earners'),\n",
       "  Text(10.5, 0, 'Earners_Age'),\n",
       "  Text(11.5, 0, 'Sum_Salary'),\n",
       "  Text(12.5, 0, 'Median_Salary'),\n",
       "  Text(13.5, 0, 'Mean_Salary'),\n",
       "  Text(14.5, 0, 'mode_name_Bus'),\n",
       "  Text(15.5, 0, 'mode_name_Ferry'),\n",
       "  Text(16.5, 0, 'mode_name_Light rail'),\n",
       "  Text(17.5, 0, 'mode_name_Train')])"
      ]
     },
     "execution_count": 45,
     "metadata": {},
     "output_type": "execute_result"
    },
    {
     "data": {
      "image/png": "[encoded data removed]",
      "text/plain": [
       "<Figure size 1296x360 with 2 Axes>"
      ]
     },
     "metadata": {
      "needs_background": "light"
     },
     "output_type": "display_data"
    }
   ],
   "source": [
    "opal_hm = opal_final.corr()\n",
    "plt.figure(figsize=(18, 5))\n",
    "sns.heatmap(opal_hm, annot = True , center=0)\n",
    "plt.title('Heatmap: Correlations', fontsize=14, fontweight='bold',loc = 'center', y=1.05)\n",
    "plt.xticks(rotation=45)"
   ]
  },
  {
   "cell_type": "code",
   "execution_count": 46,
   "id": "8a8d8b67",
   "metadata": {},
   "outputs": [
    {
     "data": {
      "text/plain": [
       "<seaborn.axisgrid.PairGrid at 0x7fd83ecc9550>"
      ]
     },
     "execution_count": 46,
     "metadata": {},
     "output_type": "execute_result"
    },
    {
     "data": {
      "image/png": "[encoded data removed]",
      "text/plain": [
       "<Figure size 720x180 with 4 Axes>"
      ]
     },
     "metadata": {
      "needs_background": "light"
     },
     "output_type": "display_data"
    }
   ],
   "source": [
    "## for seasonal and traffic-pattern related items, take a look at some pairplot to see if there are any features.\n",
    "sns.pairplot(\n",
    "    opal_final,\n",
    "    x_vars =[\"tap_hour\", \"Weekday_reg\", \"peak_hour\", \"midnight_hour\"],\n",
    "    y_vars =[\"logTaps_in_total\"]\n",
    ")"
   ]
  },
  {
   "cell_type": "markdown",
   "id": "fae89bc9",
   "metadata": {},
   "source": [
    "- From the scatter plots above, seems no special relationship can be drawn."
   ]
  },
  {
   "cell_type": "code",
   "execution_count": 47,
   "id": "a95bd533",
   "metadata": {},
   "outputs": [
    {
     "data": {
      "text/plain": [
       "<seaborn.axisgrid.PairGrid at 0x7fd8191cf430>"
      ]
     },
     "execution_count": 47,
     "metadata": {},
     "output_type": "execute_result"
    },
    {
     "data": {
      "image/png": "[encoded data removed]",
      "text/plain": [
       "<Figure size 1080x180 with 6 Axes>"
      ]
     },
     "metadata": {
      "needs_background": "light"
     },
     "output_type": "display_data"
    }
   ],
   "source": [
    "## for demographic items, take a look at some pairplot to see if there are any features.\n",
    "\n",
    "sns.pairplot(\n",
    "    opal_final,\n",
    "    x_vars =[\"AREA_SQ_KM\", \"WEIGHTED_HOUSEHOLDS\", \"WEIGHTED_POPULATION\", \"Earners\", \"Earners_Age\", \"Median_Salary\"],\n",
    "    y_vars =[\"logTaps_in_total\"]\n",
    ")"
   ]
  },
  {
   "cell_type": "markdown",
   "id": "3598f61f",
   "metadata": {},
   "source": [
    "- From the scatter plots above, seems weak linear relationships can be drawn."
   ]
  },
  {
   "cell_type": "markdown",
   "id": "34dcfe92",
   "metadata": {},
   "source": [
    "### Feature Selection (RFE)"
   ]
  },
  {
   "cell_type": "code",
   "execution_count": 48,
   "id": "3c4e8537",
   "metadata": {},
   "outputs": [
    {
     "data": {
      "text/html": [
       "<div>\n",
       "<style scoped>\n",
       "    .dataframe tbody tr th:only-of-type {\n",
       "        vertical-align: middle;\n",
       "    }\n",
       "\n",
       "    .dataframe tbody tr th {\n",
       "        vertical-align: top;\n",
       "    }\n",
       "\n",
       "    .dataframe thead th {\n",
       "        text-align: right;\n",
       "    }\n",
       "</style>\n",
       "<table border=\"1\" class=\"dataframe\">\n",
       "  <thead>\n",
       "    <tr style=\"text-align: right;\">\n",
       "      <th></th>\n",
       "      <th>trip_origin_date</th>\n",
       "      <th>month</th>\n",
       "      <th>mode_name</th>\n",
       "      <th>ti_region</th>\n",
       "      <th>tap_hour</th>\n",
       "      <th>day_of_week</th>\n",
       "      <th>logTaps_in_total</th>\n",
       "      <th>Weekday_reg</th>\n",
       "      <th>peak_hour</th>\n",
       "      <th>midnight_hour</th>\n",
       "      <th>...</th>\n",
       "      <th>WEIGHTED_VEHICLES</th>\n",
       "      <th>Earners</th>\n",
       "      <th>Earners_Age</th>\n",
       "      <th>Sum_Salary</th>\n",
       "      <th>Median_Salary</th>\n",
       "      <th>Mean_Salary</th>\n",
       "      <th>mode_name_Bus</th>\n",
       "      <th>mode_name_Ferry</th>\n",
       "      <th>mode_name_Light rail</th>\n",
       "      <th>mode_name_Train</th>\n",
       "    </tr>\n",
       "  </thead>\n",
       "  <tbody>\n",
       "    <tr>\n",
       "      <th>53731</th>\n",
       "      <td>2020-04-04</td>\n",
       "      <td>Apr</td>\n",
       "      <td>Ferry</td>\n",
       "      <td>Newcastle and surrounds</td>\n",
       "      <td>21</td>\n",
       "      <td>Saturday</td>\n",
       "      <td>2.000000</td>\n",
       "      <td>0</td>\n",
       "      <td>0</td>\n",
       "      <td>0</td>\n",
       "      <td>...</td>\n",
       "      <td>113000</td>\n",
       "      <td>91558</td>\n",
       "      <td>41</td>\n",
       "      <td>6058217032</td>\n",
       "      <td>52649</td>\n",
       "      <td>66168</td>\n",
       "      <td>0</td>\n",
       "      <td>1</td>\n",
       "      <td>0</td>\n",
       "      <td>0</td>\n",
       "    </tr>\n",
       "    <tr>\n",
       "      <th>178078</th>\n",
       "      <td>2020-11-15</td>\n",
       "      <td>Nov</td>\n",
       "      <td>Train</td>\n",
       "      <td>Newcastle and surrounds</td>\n",
       "      <td>9</td>\n",
       "      <td>Sunday</td>\n",
       "      <td>2.176091</td>\n",
       "      <td>0</td>\n",
       "      <td>0</td>\n",
       "      <td>0</td>\n",
       "      <td>...</td>\n",
       "      <td>113000</td>\n",
       "      <td>91558</td>\n",
       "      <td>41</td>\n",
       "      <td>6058217032</td>\n",
       "      <td>52649</td>\n",
       "      <td>66168</td>\n",
       "      <td>0</td>\n",
       "      <td>0</td>\n",
       "      <td>0</td>\n",
       "      <td>1</td>\n",
       "    </tr>\n",
       "    <tr>\n",
       "      <th>192681</th>\n",
       "      <td>2020-12-11</td>\n",
       "      <td>Dec</td>\n",
       "      <td>Light rail</td>\n",
       "      <td>Sydney CBD</td>\n",
       "      <td>14</td>\n",
       "      <td>Friday</td>\n",
       "      <td>3.770852</td>\n",
       "      <td>1</td>\n",
       "      <td>0</td>\n",
       "      <td>0</td>\n",
       "      <td>...</td>\n",
       "      <td>87000</td>\n",
       "      <td>157214</td>\n",
       "      <td>33</td>\n",
       "      <td>12854964329</td>\n",
       "      <td>54628</td>\n",
       "      <td>81767</td>\n",
       "      <td>0</td>\n",
       "      <td>0</td>\n",
       "      <td>1</td>\n",
       "      <td>0</td>\n",
       "    </tr>\n",
       "    <tr>\n",
       "      <th>141597</th>\n",
       "      <td>2020-09-11</td>\n",
       "      <td>Sep</td>\n",
       "      <td>Train</td>\n",
       "      <td>Strathfield</td>\n",
       "      <td>4</td>\n",
       "      <td>Friday</td>\n",
       "      <td>2.176091</td>\n",
       "      <td>1</td>\n",
       "      <td>0</td>\n",
       "      <td>1</td>\n",
       "      <td>...</td>\n",
       "      <td>23000</td>\n",
       "      <td>28276</td>\n",
       "      <td>35</td>\n",
       "      <td>1859894858</td>\n",
       "      <td>46484</td>\n",
       "      <td>65776</td>\n",
       "      <td>0</td>\n",
       "      <td>0</td>\n",
       "      <td>0</td>\n",
       "      <td>1</td>\n",
       "    </tr>\n",
       "    <tr>\n",
       "      <th>163235</th>\n",
       "      <td>2020-10-20</td>\n",
       "      <td>Oct</td>\n",
       "      <td>Bus</td>\n",
       "      <td>Wollongong and surrounds</td>\n",
       "      <td>19</td>\n",
       "      <td>Tuesday</td>\n",
       "      <td>2.000000</td>\n",
       "      <td>1</td>\n",
       "      <td>0</td>\n",
       "      <td>0</td>\n",
       "      <td>...</td>\n",
       "      <td>138000</td>\n",
       "      <td>113903</td>\n",
       "      <td>43</td>\n",
       "      <td>7138541170</td>\n",
       "      <td>50484</td>\n",
       "      <td>62672</td>\n",
       "      <td>1</td>\n",
       "      <td>0</td>\n",
       "      <td>0</td>\n",
       "      <td>0</td>\n",
       "    </tr>\n",
       "  </tbody>\n",
       "</table>\n",
       "<p>5 rows × 24 columns</p>\n",
       "</div>"
      ],
      "text/plain": [
       "       trip_origin_date month   mode_name                 ti_region  tap_hour  \\\n",
       "53731        2020-04-04   Apr       Ferry   Newcastle and surrounds        21   \n",
       "178078       2020-11-15   Nov       Train   Newcastle and surrounds         9   \n",
       "192681       2020-12-11   Dec  Light rail                Sydney CBD        14   \n",
       "141597       2020-09-11   Sep       Train               Strathfield         4   \n",
       "163235       2020-10-20   Oct         Bus  Wollongong and surrounds        19   \n",
       "\n",
       "       day_of_week  logTaps_in_total  Weekday_reg  peak_hour  midnight_hour  \\\n",
       "53731     Saturday          2.000000            0          0              0   \n",
       "178078      Sunday          2.176091            0          0              0   \n",
       "192681      Friday          3.770852            1          0              0   \n",
       "141597      Friday          2.176091            1          0              1   \n",
       "163235     Tuesday          2.000000            1          0              0   \n",
       "\n",
       "        ... WEIGHTED_VEHICLES  Earners  Earners_Age   Sum_Salary  \\\n",
       "53731   ...            113000    91558           41   6058217032   \n",
       "178078  ...            113000    91558           41   6058217032   \n",
       "192681  ...             87000   157214           33  12854964329   \n",
       "141597  ...             23000    28276           35   1859894858   \n",
       "163235  ...            138000   113903           43   7138541170   \n",
       "\n",
       "        Median_Salary  Mean_Salary  mode_name_Bus  mode_name_Ferry  \\\n",
       "53731           52649        66168              0                1   \n",
       "178078          52649        66168              0                0   \n",
       "192681          54628        81767              0                0   \n",
       "141597          46484        65776              0                0   \n",
       "163235          50484        62672              1                0   \n",
       "\n",
       "        mode_name_Light rail  mode_name_Train  \n",
       "53731                      0                0  \n",
       "178078                     0                1  \n",
       "192681                     1                0  \n",
       "141597                     0                1  \n",
       "163235                     0                0  \n",
       "\n",
       "[5 rows x 24 columns]"
      ]
     },
     "execution_count": 48,
     "metadata": {},
     "output_type": "execute_result"
    }
   ],
   "source": [
    "train, test = train_test_split(opal_final, test_size=0.2, random_state=142)\n",
    "\n",
    "train.head()"
   ]
  },
  {
   "cell_type": "code",
   "execution_count": 49,
   "id": "88d4d58b",
   "metadata": {},
   "outputs": [
    {
     "data": {
      "text/plain": [
       "LinearRegression()"
      ]
     },
     "execution_count": 49,
     "metadata": {},
     "output_type": "execute_result"
    }
   ],
   "source": [
    "X_train = train.drop([\"logTaps_in_total\", \"trip_origin_date\",\"month\",\"tap_hour\",\"mode_name\",\"ti_region\",\"day_of_week\",\"LGA\"], axis = 1)\n",
    "y_train = train[\"logTaps_in_total\"]\n",
    "X_test = test.drop([\"logTaps_in_total\", \"trip_origin_date\",\"month\",\"tap_hour\",\"mode_name\",\"ti_region\",\"day_of_week\",\"LGA\"], axis = 1)\n",
    "y_test = test[\"logTaps_in_total\"]\n",
    "\n",
    "model = LinearRegression()\n",
    "model.fit(X_train, y_train)\n"
   ]
  },
  {
   "cell_type": "code",
   "execution_count": 50,
   "id": "583cc869",
   "metadata": {},
   "outputs": [
    {
     "data": {
      "text/plain": [
       "Index(['Weekday_reg', 'peak_hour', 'midnight_hour', 'AREA_SQ_KM',\n",
       "       'WEIGHTED_HOUSEHOLDS', 'WEIGHTED_POPULATION', 'WEIGHTED_VEHICLES',\n",
       "       'Earners', 'Earners_Age', 'Median_Salary', 'Mean_Salary',\n",
       "       'mode_name_Bus', 'mode_name_Ferry', 'mode_name_Light rail',\n",
       "       'mode_name_Train'],\n",
       "      dtype='object')"
      ]
     },
     "execution_count": 50,
     "metadata": {},
     "output_type": "execute_result"
    }
   ],
   "source": [
    "# Fitting RFE Model and printing best RFE model\n",
    "rfecv = RFECV(\n",
    "    estimator=LinearRegression(),\n",
    "    min_features_to_select=1,\n",
    "    step=1,\n",
    "    scoring=\"r2\"\n",
    ")\n",
    "\n",
    "_ = rfecv.fit(X_train, y_train)\n",
    "\n",
    "X_train.columns[rfecv.support_]"
   ]
  },
  {
   "cell_type": "code",
   "execution_count": 51,
   "id": "288be04c",
   "metadata": {},
   "outputs": [
    {
     "data": {
      "text/plain": [
       "RFE(estimator=LinearRegression(), n_features_to_select=15)"
      ]
     },
     "execution_count": 51,
     "metadata": {},
     "output_type": "execute_result"
    }
   ],
   "source": [
    "rfe = RFE(estimator = model, n_features_to_select=15, step=1)\n",
    "rfe.fit(X_train, y_train)"
   ]
  },
  {
   "cell_type": "code",
   "execution_count": 52,
   "id": "e187dd78",
   "metadata": {},
   "outputs": [
    {
     "name": "stdout",
     "output_type": "stream",
     "text": [
      "Column: 0, Selected True, Rank: 1.000\n",
      "Column: 1, Selected True, Rank: 1.000\n",
      "Column: 2, Selected True, Rank: 1.000\n",
      "Column: 3, Selected True, Rank: 1.000\n",
      "Column: 4, Selected True, Rank: 1.000\n",
      "Column: 5, Selected True, Rank: 1.000\n",
      "Column: 6, Selected True, Rank: 1.000\n",
      "Column: 7, Selected True, Rank: 1.000\n",
      "Column: 8, Selected True, Rank: 1.000\n",
      "Column: 9, Selected False, Rank: 2.000\n",
      "Column: 10, Selected True, Rank: 1.000\n",
      "Column: 11, Selected True, Rank: 1.000\n",
      "Column: 12, Selected True, Rank: 1.000\n",
      "Column: 13, Selected True, Rank: 1.000\n",
      "Column: 14, Selected True, Rank: 1.000\n",
      "Column: 15, Selected True, Rank: 1.000\n"
     ]
    }
   ],
   "source": [
    "# summarize all features\n",
    "for i in range(X_train.shape[1]):\n",
    "    print('Column: %d, Selected %s, Rank: %.3f' % (i, rfe.support_[i], rfe.ranking_[i]))"
   ]
  },
  {
   "cell_type": "code",
   "execution_count": 53,
   "id": "4efe0623",
   "metadata": {},
   "outputs": [],
   "source": [
    "y = train['logTaps_in_total']\n",
    "col = [ 'Weekday_reg', 'peak_hour', 'midnight_hour', 'AREA_SQ_KM',\n",
    "       'WEIGHTED_HOUSEHOLDS', 'WEIGHTED_POPULATION', 'WEIGHTED_VEHICLES',\n",
    "       'Earners', 'Earners_Age', 'Median_Salary', 'Mean_Salary',\n",
    "       'mode_name_Bus', 'mode_name_Ferry', 'mode_name_Light rail',\n",
    "       'mode_name_Train' \n",
    "        ]\n",
    "\n",
    "X = train[col]"
   ]
  },
  {
   "cell_type": "code",
   "execution_count": 54,
   "id": "e0898380",
   "metadata": {},
   "outputs": [
    {
     "name": "stdout",
     "output_type": "stream",
     "text": [
      "                            OLS Regression Results                            \n",
      "==============================================================================\n",
      "Dep. Variable:       logTaps_in_total   R-squared:                       0.620\n",
      "Model:                            OLS   Adj. R-squared:                  0.620\n",
      "Method:                 Least Squares   F-statistic:                 1.719e+04\n",
      "Date:                Wed, 03 Nov 2021   Prob (F-statistic):               0.00\n",
      "Time:                        18:22:26   Log-Likelihood:                -61354.\n",
      "No. Observations:              136817   AIC:                         1.227e+05\n",
      "Df Residuals:                  136803   BIC:                         1.229e+05\n",
      "Df Model:                          13                                         \n",
      "Covariance Type:            nonrobust                                         \n",
      "========================================================================================\n",
      "                           coef    std err          t      P>|t|      [0.025      0.975]\n",
      "----------------------------------------------------------------------------------------\n",
      "const                    0.0023   1.09e-05    208.606      0.000       0.002       0.002\n",
      "Weekday_reg              0.1455      0.002     64.006      0.000       0.141       0.150\n",
      "peak_hour                0.3163      0.003    117.086      0.000       0.311       0.322\n",
      "midnight_hour           -0.5996      0.003   -203.155      0.000      -0.605      -0.594\n",
      "AREA_SQ_KM              -0.0043   6.85e-05    -62.671      0.000      -0.004      -0.004\n",
      "WEIGHTED_HOUSEHOLDS      0.0001   2.19e-06     50.365      0.000       0.000       0.000\n",
      "WEIGHTED_POPULATION      0.0001   1.81e-06     64.221      0.000       0.000       0.000\n",
      "WEIGHTED_VEHICLES    -9.248e-05   1.15e-06    -80.151      0.000   -9.47e-05   -9.02e-05\n",
      "Earners                 -0.0002    3.1e-06    -52.792      0.000      -0.000      -0.000\n",
      "Earners_Age              0.0707      0.000    208.740      0.000       0.070       0.071\n",
      "Median_Salary        -2.258e-05   8.92e-07    -25.331      0.000   -2.43e-05   -2.08e-05\n",
      "Mean_Salary           1.008e-05   5.31e-07     19.003      0.000    9.04e-06    1.11e-05\n",
      "mode_name_Bus            0.0916      0.002     48.927      0.000       0.088       0.095\n",
      "mode_name_Ferry         -0.3908      0.002   -158.529      0.000      -0.396      -0.386\n",
      "mode_name_Light rail    -0.0405      0.003    -13.778      0.000      -0.046      -0.035\n",
      "mode_name_Train          0.3420      0.002    183.486      0.000       0.338       0.346\n",
      "==============================================================================\n",
      "Omnibus:                      639.090   Durbin-Watson:                   2.003\n",
      "Prob(Omnibus):                  0.000   Jarque-Bera (JB):              645.243\n",
      "Skew:                          -0.165   Prob(JB):                    7.71e-141\n",
      "Kurtosis:                       2.930   Cond. No.                     3.55e+19\n",
      "==============================================================================\n",
      "\n",
      "Notes:\n",
      "[1] Standard Errors assume that the covariance matrix of the errors is correctly specified.\n",
      "[2] The smallest eigenvalue is 6.32e-24. This might indicate that there are\n",
      "strong multicollinearity problems or that the design matrix is singular.\n"
     ]
    }
   ],
   "source": [
    "## confirm the significance of factors using z-score and p-values\n",
    "X2 = sm.add_constant(X)\n",
    "est = sm.OLS(y, X2)\n",
    "est2 = est.fit()\n",
    "print(est2.summary())"
   ]
  },
  {
   "cell_type": "markdown",
   "id": "11d09d3b",
   "metadata": {},
   "source": [
    "## Estimation Model (Multiple Linear Regression)"
   ]
  },
  {
   "cell_type": "markdown",
   "id": "888a9f00",
   "metadata": {},
   "source": [
    "Drop \"Mean_Salary\" in building the model since mean salary is kind of a duplication to \"Median_Salary\"."
   ]
  },
  {
   "cell_type": "code",
   "execution_count": 55,
   "id": "2c9f08ad",
   "metadata": {},
   "outputs": [
    {
     "data": {
      "text/plain": [
       "LinearRegression()"
      ]
     },
     "execution_count": 55,
     "metadata": {},
     "output_type": "execute_result"
    }
   ],
   "source": [
    "X_train_final = train.drop([\"logTaps_in_total\", \"trip_origin_date\",\"month\",\"tap_hour\",\"mode_name\",\"ti_region\",\"day_of_week\",\"LGA\", \"WEIGHTED_VEHICLES\", \"Mean_Salary\"], axis = 1)\n",
    "y_train_final = train[\"logTaps_in_total\"]\n",
    "X_test_final = test.drop([\"logTaps_in_total\", \"trip_origin_date\",\"month\",\"tap_hour\",\"mode_name\",\"ti_region\",\"day_of_week\",\"LGA\", \"WEIGHTED_VEHICLES\", \"Mean_Salary\"], axis = 1)\n",
    "y_test_final = test[\"logTaps_in_total\"]\n",
    "\n",
    "model = LinearRegression()\n",
    "model.fit(X_train, y_train)"
   ]
  },
  {
   "cell_type": "code",
   "execution_count": 56,
   "id": "6dc0245f",
   "metadata": {},
   "outputs": [
    {
     "data": {
      "text/plain": [
       "Index(['Weekday_reg', 'peak_hour', 'midnight_hour', 'AREA_SQ_KM',\n",
       "       'WEIGHTED_HOUSEHOLDS', 'WEIGHTED_POPULATION', 'Earners', 'Earners_Age',\n",
       "       'Sum_Salary', 'Median_Salary', 'mode_name_Bus', 'mode_name_Ferry',\n",
       "       'mode_name_Light rail', 'mode_name_Train'],\n",
       "      dtype='object')"
      ]
     },
     "execution_count": 56,
     "metadata": {},
     "output_type": "execute_result"
    }
   ],
   "source": [
    "## checking the independent variables in final model\n",
    "X_train_final.columns"
   ]
  },
  {
   "cell_type": "code",
   "execution_count": 57,
   "id": "c86f0a22",
   "metadata": {},
   "outputs": [
    {
     "name": "stdout",
     "output_type": "stream",
     "text": [
      "y = x*[ 1.45524452e-01  3.16315594e-01 -5.99606427e-01 -4.32960956e-06\n",
      "  5.64000477e-07 -9.92812305e-06 -1.17989633e-05  5.66044582e-05\n",
      " -7.95164696e-08 -4.10166068e-10 -1.45633309e-05  2.47797586e-05\n",
      "  9.10352520e-02 -3.91356623e-01 -4.10715579e-02  3.41392929e-01] + 1.308527601205841\n"
     ]
    }
   ],
   "source": [
    "print(f'y = x*{model.coef_} + {model.intercept_}')"
   ]
  },
  {
   "cell_type": "code",
   "execution_count": 58,
   "id": "6de7e8fc",
   "metadata": {},
   "outputs": [
    {
     "data": {
      "text/plain": [
       "array([3.1791279 , 3.766353  , 2.08898269, ..., 2.41452287, 3.19967973,\n",
       "       1.60239776])"
      ]
     },
     "execution_count": 58,
     "metadata": {},
     "output_type": "execute_result"
    }
   ],
   "source": [
    "y_pred = model.predict(X_test)\n",
    "y_pred"
   ]
  },
  {
   "cell_type": "code",
   "execution_count": 59,
   "id": "b3d91b77",
   "metadata": {},
   "outputs": [
    {
     "name": "stdout",
     "output_type": "stream",
     "text": [
      "MSE:  0.14096140477520233\n",
      "R-square:  0.624981670203033\n"
     ]
    }
   ],
   "source": [
    "## review the performance of final model\n",
    "print(\"MSE: \", mean_squared_error(y_test, y_pred)) \n",
    "print(\"R-square: \", r2_score(y_test, y_pred))"
   ]
  },
  {
   "cell_type": "markdown",
   "id": "fd5ef78e",
   "metadata": {},
   "source": [
    "**Findings:** \n",
    "- After RFE Selection, 14 variables are manually selected to fit the model. \n",
    "- R-square is reported as 0.625, meaning 62.5% of tap volume can be explained by the independent variables, this is a moderately well model in explaining the volume of opal taps.\n"
   ]
  },
  {
   "cell_type": "markdown",
   "id": "28e736bf",
   "metadata": {},
   "source": [
    "## Conclusion"
   ]
  },
  {
   "cell_type": "markdown",
   "id": "a00b0ffb",
   "metadata": {},
   "source": [
    "- Train is the most popular transport in all times. It seems that train is the fastest or most convenient mode of transport in our insight regions.\n",
    "\n",
    "- Tap-volume and transport patterns are more likely based on necessity to travel. It is observed that more tap volume on peak hour and less over midnight. \n",
    "\n",
    "- Echo with k-means clustering, the regression model also indicated the regional income may have impact over the Tap-volume. This may due to purposes of travelling, implying most opal users may use public transports for work-purpose.\n",
    "\n"
   ]
  },
  {
   "cell_type": "markdown",
   "id": "3742aca6",
   "metadata": {},
   "source": [
    "## Review on Project\n",
    "\n",
    "Throughout the project, we encounter a lot of difficulties in data extraction and modelling. The original data is stored without demographics, we spend so much times in researching for demographic data that can matach with our opal usage dataset, as well as producing meaningful results. We eventually made some assumptions on the time range of data extraction, since we are unable to match data with the exact time frame across different datasets. \n",
    "\n",
    "Eventually the data comes out well with a moderately well explanatory model. While with more time allowed, we would work on a dataset with a longer time frame to eliminate any COVID related impact. Moreover, the data analysis would be more ideal if the data set itself is collected on individual level than on grouped level."
   ]
  },
  {
   "cell_type": "code",
   "execution_count": null,
   "id": "cd2ea0ad",
   "metadata": {},
   "outputs": [],
   "source": []
  }
 ],
 "metadata": {
  "kernelspec": {
   "display_name": "Python 3",
   "language": "python",
   "name": "python3"
  },
  "language_info": {
   "codemirror_mode": {
    "name": "ipython",
    "version": 3
   },
   "file_extension": ".py",
   "mimetype": "text/x-python",
   "name": "python",
   "nbconvert_exporter": "python",
   "pygments_lexer": "ipython3",
   "version": "3.8.8"
  }
 },
 "nbformat": 4,
 "nbformat_minor": 5
}
